{
  "nbformat": 4,
  "nbformat_minor": 0,
  "metadata": {
    "colab": {
      "provenance": [],
      "authorship_tag": "ABX9TyO5VuQhhIr287qC9UooZ10J",
      "include_colab_link": true
    },
    "kernelspec": {
      "name": "python3",
      "display_name": "Python 3"
    },
    "language_info": {
      "name": "python"
    }
  },
  "cells": [
    {
      "cell_type": "markdown",
      "metadata": {
        "id": "view-in-github",
        "colab_type": "text"
      },
      "source": [
        "<a href=\"https://colab.research.google.com/github/aman-theanalyst/Data-Science-Journey/blob/main/Python/4_Lists_in_Python.ipynb\" target=\"_parent\"><img src=\"https://colab.research.google.com/assets/colab-badge.svg\" alt=\"Open In Colab\"/></a>"
      ]
    },
    {
      "cell_type": "markdown",
      "source": [
        "**List in Python**\n",
        "\n",
        "A list is a built-in data structure that can hold an ordered collection of items.\n",
        "\n",
        "Python lists are very flexible:\n",
        "*   Can contain duplicate items\n",
        "*   Mutable: items can be modified, replaced, or removed\n",
        "*   Ordered: maintains the order in which items are added\n",
        "*   Index-based: items are accessed using their position (starting from 0)\n",
        "*   Can store mixed data types (integers, strings, booleans, even other lists)\n",
        "\n",
        "**List vs Array**\n",
        "\n",
        "| Feature                     | List                   | Array (`array` / `numpy`)         |\n",
        "| --------------------------- | ---------------------- | --------------------------------- |\n",
        "| **Module**                  | Built-in               | `array` or `numpy`                |\n",
        "| **Data Type**               | Can mix types          | Single data type                  |\n",
        "| **Speed**                   | Slower                 | Faster                            |\n",
        "| **Memory Usage**            | More                   | Less                              |\n",
        "| **Mathematical Operations** | Not directly supported | Supported (especially with NumPy) |\n",
        "| **Flexibility**             | Very flexible          | Optimized for numeric data        |\n",
        "\n",
        "\n",
        "**Characterstics of a List**\n",
        "\n",
        "*   Ordered\n",
        "*   Changeble/Mutable\n",
        "*   Hetrogeneous\n",
        "*   Can have duplicates\n",
        "*   are dynamic\n",
        "*   can be nested\n",
        "*   items can be accessed\n",
        "*   can contain any kind of objects in python\n"
      ],
      "metadata": {
        "id": "DVxDaOTz3mq7"
      }
    },
    {
      "cell_type": "markdown",
      "source": [
        "# Creating a List"
      ],
      "metadata": {
        "id": "iUPCENiS6db0"
      }
    },
    {
      "cell_type": "code",
      "execution_count": 1,
      "metadata": {
        "id": "9i7LUcc0E4Wq",
        "colab": {
          "base_uri": "https://localhost:8080/"
        },
        "outputId": "f8486b1d-537f-4bac-cdc7-ead31b53b2c1"
      },
      "outputs": [
        {
          "output_type": "stream",
          "name": "stdout",
          "text": [
            "[1, 2, 3, 4, 5]\n",
            "['apple', 'banana', 'cherry']\n",
            "[1, 'hello', 3.14, True]\n"
          ]
        }
      ],
      "source": [
        "# 1.Using square bracket\n",
        "\n",
        "a = [1, 2, 3, 4, 5]                 # List of integers\n",
        "b = ['apple', 'banana', 'cherry']   # List of strings\n",
        "c = [1, 'hello', 3.14, True]        # Mixed data types\n",
        "\n",
        "print(a)\n",
        "print(b)\n",
        "print(c)"
      ]
    },
    {
      "cell_type": "code",
      "source": [
        "# 2.Using list() Constructor\n",
        "\n",
        "a = list((1, 2, 3, 'apple', 4.5))\n",
        "print(a)\n",
        "\n",
        "b = list(\"GFG\")\n",
        "print(b)"
      ],
      "metadata": {
        "colab": {
          "base_uri": "https://localhost:8080/"
        },
        "id": "Pg5m55SO674z",
        "outputId": "8b409243-f5a0-4401-a0ab-e98f7171668e"
      },
      "execution_count": 2,
      "outputs": [
        {
          "output_type": "stream",
          "name": "stdout",
          "text": [
            "[1, 2, 3, 'apple', 4.5]\n",
            "['G', 'F', 'G']\n"
          ]
        }
      ]
    },
    {
      "cell_type": "code",
      "source": [
        "# 3.Creating List with Repeated Elements\n",
        "\n",
        "a = [2] * 5       # [2,2,2,2,2]\n",
        "b = [0] * 7\n",
        "\n",
        "print(a)\n",
        "print(b)"
      ],
      "metadata": {
        "colab": {
          "base_uri": "https://localhost:8080/"
        },
        "id": "1y1Y3VXa7Gyi",
        "outputId": "c16d0251-23d1-4518-ae5d-cbbd975a1790"
      },
      "execution_count": 3,
      "outputs": [
        {
          "output_type": "stream",
          "name": "stdout",
          "text": [
            "[2, 2, 2, 2, 2]\n",
            "[0, 0, 0, 0, 0, 0, 0]\n"
          ]
        }
      ]
    },
    {
      "cell_type": "code",
      "source": [
        "# Other ways\n",
        "\n",
        "# Empty\n",
        "print([])\n",
        "\n",
        "# 1D -> Homo\n",
        "print([1,2,3,4,5])\n",
        "# 2D\n",
        "print([1,2,3,[4,5]])\n",
        "# 3D\n",
        "print([[[1,2],[3,4]],[[5,6],[7,8]]])\n",
        "\n",
        "# Using Type conversion\n",
        "print(list('hello'))"
      ],
      "metadata": {
        "colab": {
          "base_uri": "https://localhost:8080/"
        },
        "id": "lDAqAq3X7Saq",
        "outputId": "0fc21b79-35cf-4d10-bd36-a30f2d8c4bdd"
      },
      "execution_count": 4,
      "outputs": [
        {
          "output_type": "stream",
          "name": "stdout",
          "text": [
            "[]\n",
            "[1, 2, 3, 4, 5]\n",
            "[1, 2, 3, [4, 5]]\n",
            "[[[1, 2], [3, 4]], [[5, 6], [7, 8]]]\n",
            "['h', 'e', 'l', 'l', 'o']\n"
          ]
        }
      ]
    },
    {
      "cell_type": "markdown",
      "source": [
        "# Accessing the Elements"
      ],
      "metadata": {
        "id": "OsbvHNrm7rP3"
      }
    },
    {
      "cell_type": "code",
      "source": [
        "# Positive & Negative Indexing\n",
        "\n",
        "a = [10, 20, 30, 40, 50]\n",
        "print(a[0])     # first element\n",
        "print(a[-1])    # last element\n",
        "print(a[1:4])   # elements from index 1 to 3\n",
        "print(a[-3:-1])   # every second element\n",
        "\n",
        "# Slicing\n",
        "print(a[::-1])"
      ],
      "metadata": {
        "colab": {
          "base_uri": "https://localhost:8080/"
        },
        "id": "id46-jM57u-o",
        "outputId": "8bcb49fc-0684-42d4-85be-b7f99a14e97b"
      },
      "execution_count": 11,
      "outputs": [
        {
          "output_type": "stream",
          "name": "stdout",
          "text": [
            "10\n",
            "50\n",
            "[20, 30, 40]\n",
            "[30, 40]\n",
            "[50, 40, 30, 20, 10]\n"
          ]
        }
      ]
    },
    {
      "cell_type": "markdown",
      "source": [
        "# Modifying the List"
      ],
      "metadata": {
        "id": "v1U-5SSP9byX"
      }
    },
    {
      "cell_type": "markdown",
      "source": [
        "**Adding Elements into List**\n",
        "\n",
        "*   append(): Adds an element at the end of the list.\n",
        "*   extend(): Adds multiple elements to the end of the list.\n",
        "*   insert(): Adds an element at a specific position.\n"
      ],
      "metadata": {
        "id": "GR-8uhjw9rLY"
      }
    },
    {
      "cell_type": "code",
      "source": [
        "# append\n",
        "L = [1,2,3,4,5]\n",
        "L.append(True)\n",
        "print(L)\n",
        "\n",
        "# extend\n",
        "L = [1,2,3,4,5]\n",
        "L.extend([6,7,8])\n",
        "print(L)\n",
        "\n",
        "# insert\n",
        "L = [1,2,3,4,5]\n",
        "L.insert(1,100)\n",
        "print(L)"
      ],
      "metadata": {
        "colab": {
          "base_uri": "https://localhost:8080/"
        },
        "id": "RnSzetXt9fOa",
        "outputId": "9efd50e6-ddca-4bc2-d42d-bdf1e91473cb"
      },
      "execution_count": 12,
      "outputs": [
        {
          "output_type": "stream",
          "name": "stdout",
          "text": [
            "[1, 2, 3, 4, 5, True]\n",
            "[1, 2, 3, 4, 5, 6, 7, 8]\n",
            "[1, 100, 2, 3, 4, 5]\n"
          ]
        }
      ]
    },
    {
      "cell_type": "markdown",
      "source": [
        "**Updating Elements into List**\n",
        "\n",
        "Since lists are mutable, we can update elements by accessing them via their index."
      ],
      "metadata": {
        "id": "OGI7-sIr-bMW"
      }
    },
    {
      "cell_type": "code",
      "source": [
        "L = [1,2,3,4,5]\n",
        "\n",
        "# editing with indexing\n",
        "L[0] = 10\n",
        "L[-1] = 500\n",
        "\n",
        "# editing with slicing\n",
        "L[1:4] = [200,300,400]\n",
        "\n",
        "print(L)"
      ],
      "metadata": {
        "colab": {
          "base_uri": "https://localhost:8080/"
        },
        "id": "PU9PWnIX-lW3",
        "outputId": "f3a9bdc4-1878-4767-b913-3bbc3d87ea8a"
      },
      "execution_count": 14,
      "outputs": [
        {
          "output_type": "stream",
          "name": "stdout",
          "text": [
            "[10, 200, 300, 400, 500]\n"
          ]
        }
      ]
    },
    {
      "cell_type": "markdown",
      "source": [
        "**Deleting items from a List**\n",
        "\n",
        "We can remove elements from a list using:\n",
        "\n",
        "\n",
        "*   remove(): Removes the first occurrence of an element.\n",
        "*   pop(): Removes the element at a specific index or the last element if no index is specified.\n",
        "*   del statement: Deletes an element at a specified index.\n",
        "*   clear(): removes all items.\n",
        "\n"
      ],
      "metadata": {
        "id": "e8DoYIVu_idv"
      }
    },
    {
      "cell_type": "code",
      "source": [
        "# using del Keyword\n",
        "\n",
        "L = [1,2,3,4,5]\n",
        "\n",
        "# indexing\n",
        "del L[-1]       # remove last element\n",
        "\n",
        "# slicing\n",
        "del L[1:3]\n",
        "print(L)"
      ],
      "metadata": {
        "colab": {
          "base_uri": "https://localhost:8080/"
        },
        "id": "pLKLQjnp_3O-",
        "outputId": "32a00940-fde5-475d-ab0f-ab25929d3c00"
      },
      "execution_count": 15,
      "outputs": [
        {
          "output_type": "stream",
          "name": "stdout",
          "text": [
            "[1, 4]\n"
          ]
        }
      ]
    },
    {
      "cell_type": "code",
      "source": [
        "# using remove()\n",
        "\n",
        "L = [1,2,3,4,5]\n",
        "\n",
        "L.remove(3)\n",
        "print(L)"
      ],
      "metadata": {
        "colab": {
          "base_uri": "https://localhost:8080/"
        },
        "id": "PQnBL_Q1ATIM",
        "outputId": "ca3683b5-25ca-4c6b-a8e3-21f8a8810df2"
      },
      "execution_count": 18,
      "outputs": [
        {
          "output_type": "stream",
          "name": "stdout",
          "text": [
            "[1, 2, 4, 5]\n"
          ]
        }
      ]
    },
    {
      "cell_type": "code",
      "source": [
        "# using pop()\n",
        "\n",
        "L = [1,2,3,4,5]\n",
        "\n",
        "L.pop()\n",
        "print(L)"
      ],
      "metadata": {
        "colab": {
          "base_uri": "https://localhost:8080/"
        },
        "id": "EGVAN3bQAZBE",
        "outputId": "668a1aa1-78d8-4dd0-cfc4-c224d0613010"
      },
      "execution_count": 17,
      "outputs": [
        {
          "output_type": "stream",
          "name": "stdout",
          "text": [
            "[1, 2, 3, 4]\n"
          ]
        }
      ]
    },
    {
      "cell_type": "code",
      "source": [
        "# using clear()\n",
        "\n",
        "L = [1,2,3,4,5]\n",
        "\n",
        "L.clear()\n",
        "print(L)"
      ],
      "metadata": {
        "colab": {
          "base_uri": "https://localhost:8080/"
        },
        "id": "O6tkDHcHAgRT",
        "outputId": "b8d28388-ea2d-482d-ffd9-0cf4f9d11a59"
      },
      "execution_count": 19,
      "outputs": [
        {
          "output_type": "stream",
          "name": "stdout",
          "text": [
            "[]\n"
          ]
        }
      ]
    },
    {
      "cell_type": "markdown",
      "source": [
        "# Operation on List\n",
        "\n",
        "*   Arithmetic\n",
        "*   Membership\n",
        "*   Loop\n"
      ],
      "metadata": {
        "id": "JyJOAR5YA0h-"
      }
    },
    {
      "cell_type": "code",
      "source": [
        "# Arithmetic (+ ,*)\n",
        "\n",
        "L1 = [1,2,3,4]\n",
        "L2 = [5,6,7,8]\n",
        "\n",
        "# Concatenation/Merge\n",
        "print(L1 + L2)"
      ],
      "metadata": {
        "colab": {
          "base_uri": "https://localhost:8080/"
        },
        "id": "V7AkcMqrA6N1",
        "outputId": "a3b2f343-d9a4-4ed0-c97a-d10e6fac148c"
      },
      "execution_count": 20,
      "outputs": [
        {
          "output_type": "stream",
          "name": "stdout",
          "text": [
            "[1, 2, 3, 4, 5, 6, 7, 8]\n"
          ]
        }
      ]
    },
    {
      "cell_type": "code",
      "source": [
        "print(L1*3)"
      ],
      "metadata": {
        "colab": {
          "base_uri": "https://localhost:8080/"
        },
        "id": "1j7caIV8BLg1",
        "outputId": "0461c2a4-32b5-4fff-c938-35bc9d1d5bb6"
      },
      "execution_count": 21,
      "outputs": [
        {
          "output_type": "stream",
          "name": "stdout",
          "text": [
            "[1, 2, 3, 4, 1, 2, 3, 4, 1, 2, 3, 4]\n"
          ]
        }
      ]
    },
    {
      "cell_type": "code",
      "source": [
        "# Membership\n",
        "\n",
        "L1 = [1,2,3,4,5]\n",
        "L2 = [1,2,3,4,[5,6]]\n",
        "\n",
        "print(5 not in L1)\n",
        "print([5,6] in L2)"
      ],
      "metadata": {
        "colab": {
          "base_uri": "https://localhost:8080/"
        },
        "id": "09494ZjDBPsv",
        "outputId": "27d371b3-b0f5-4ac0-e3db-ddd406dc6acc"
      },
      "execution_count": 22,
      "outputs": [
        {
          "output_type": "stream",
          "name": "stdout",
          "text": [
            "False\n",
            "True\n"
          ]
        }
      ]
    },
    {
      "cell_type": "code",
      "source": [
        "# Loops\n",
        "\n",
        "L1 = [1,2,3,4,5]\n",
        "L2 = [1,2,3,4,[5,6]]\n",
        "L3 = [[[1,2],[3,4]],[[5,6],[7,8]]]\n",
        "\n",
        "for i in L3:\n",
        "  print(i)"
      ],
      "metadata": {
        "colab": {
          "base_uri": "https://localhost:8080/"
        },
        "id": "uAJaIgH7BW9I",
        "outputId": "7d6281fd-d5c9-42e2-cf3f-cc941760405e"
      },
      "execution_count": 23,
      "outputs": [
        {
          "output_type": "stream",
          "name": "stdout",
          "text": [
            "[[1, 2], [3, 4]]\n",
            "[[5, 6], [7, 8]]\n"
          ]
        }
      ]
    },
    {
      "cell_type": "markdown",
      "source": [
        "# List Function"
      ],
      "metadata": {
        "id": "Aju75hngFYYk"
      }
    },
    {
      "cell_type": "markdown",
      "source": [
        "1️⃣ len() — Length of List   \n",
        "2️⃣ min() — Smallest Element    \n",
        "3️⃣ max() — Largest Element    \n",
        "4️⃣ sorted() — Sorts Elements"
      ],
      "metadata": {
        "id": "xtp_PYiLFnRc"
      }
    },
    {
      "cell_type": "code",
      "source": [
        "fruits = [\"apple\", \"banana\", \"cherry\"]\n",
        "print(len(fruits))"
      ],
      "metadata": {
        "colab": {
          "base_uri": "https://localhost:8080/"
        },
        "id": "56r5gViQHJOv",
        "outputId": "477751d7-e125-4ed6-a5c1-092580181fcd"
      },
      "execution_count": 24,
      "outputs": [
        {
          "output_type": "stream",
          "name": "stdout",
          "text": [
            "3\n"
          ]
        }
      ]
    },
    {
      "cell_type": "code",
      "source": [
        "# Numbers → gives smallest number\n",
        "# Strings → smallest in alphabetical order\n",
        "\n",
        "letters = [\"z\", \"a\", \"k\"]\n",
        "print(min(letters))\n",
        "print(max(letters))\n",
        "\n",
        "numbers = [5, 2, 9, 1]\n",
        "print(min(numbers))\n",
        "print(max(numbers))"
      ],
      "metadata": {
        "colab": {
          "base_uri": "https://localhost:8080/"
        },
        "id": "xmNND0zfGoev",
        "outputId": "34b7d5fd-9145-4120-c95a-879f39e07c7d"
      },
      "execution_count": 25,
      "outputs": [
        {
          "output_type": "stream",
          "name": "stdout",
          "text": [
            "a\n",
            "z\n",
            "1\n",
            "9\n"
          ]
        }
      ]
    },
    {
      "cell_type": "code",
      "source": [
        "# Ascending Order\n",
        "\n",
        "numbers = [5, 2, 9, 1]\n",
        "sorted_nums = sorted(numbers)\n",
        "print(sorted_nums)\n",
        "print(numbers)"
      ],
      "metadata": {
        "colab": {
          "base_uri": "https://localhost:8080/"
        },
        "id": "cd4iCTl0KZ3F",
        "outputId": "ac96b296-cb3a-4a3f-bce9-49dc0cb58f4b"
      },
      "execution_count": 26,
      "outputs": [
        {
          "output_type": "stream",
          "name": "stdout",
          "text": [
            "[1, 2, 5, 9]\n",
            "[5, 2, 9, 1]\n"
          ]
        }
      ]
    },
    {
      "cell_type": "code",
      "source": [
        "# Descending Order\n",
        "\n",
        "sorted_nums = sorted(numbers, reverse=True)\n",
        "print(sorted_nums)"
      ],
      "metadata": {
        "colab": {
          "base_uri": "https://localhost:8080/"
        },
        "id": "4gVXP7QEKbqM",
        "outputId": "9d93bc71-84c8-4a7f-feec-5bf66b1af336"
      },
      "execution_count": 27,
      "outputs": [
        {
          "output_type": "stream",
          "name": "stdout",
          "text": [
            "[9, 5, 2, 1]\n"
          ]
        }
      ]
    },
    {
      "cell_type": "code",
      "source": [
        "# count()\n",
        "\n",
        "L = [1,2,1,3,4,1,5]\n",
        "L.count(1)"
      ],
      "metadata": {
        "colab": {
          "base_uri": "https://localhost:8080/"
        },
        "id": "2z8v8xrHKg1R",
        "outputId": "2e8ac8f1-09e8-4e78-9639-32476f656afe"
      },
      "execution_count": 29,
      "outputs": [
        {
          "output_type": "execute_result",
          "data": {
            "text/plain": [
              "3"
            ]
          },
          "metadata": {},
          "execution_count": 29
        }
      ]
    },
    {
      "cell_type": "code",
      "source": [
        "# index()\n",
        "\n",
        "L = [1,2,1,3,4,1,5]\n",
        "L.index(5)\n",
        "print(\"Index of element 5 : \", L.index(5))\n",
        "print(\"Index of element 1 : \", L.index(1))"
      ],
      "metadata": {
        "colab": {
          "base_uri": "https://localhost:8080/"
        },
        "id": "IdWTXbgzLNx8",
        "outputId": "b4c8892c-eb34-487c-bdbc-404b2ec95c35"
      },
      "execution_count": 33,
      "outputs": [
        {
          "output_type": "stream",
          "name": "stdout",
          "text": [
            "Index of element 5 :  6\n",
            "Index of element 1 :  0\n"
          ]
        }
      ]
    },
    {
      "cell_type": "code",
      "source": [
        "# reverse()\n",
        "\n",
        "L = [2,1,5,7,0]\n",
        "L.reverse()\n",
        "print(L)"
      ],
      "metadata": {
        "colab": {
          "base_uri": "https://localhost:8080/"
        },
        "id": "GbBs-jg-L7sm",
        "outputId": "880971b0-ff72-44ff-9e38-01b5904f4c71"
      },
      "execution_count": 34,
      "outputs": [
        {
          "output_type": "stream",
          "name": "stdout",
          "text": [
            "[0, 7, 5, 1, 2]\n"
          ]
        }
      ]
    },
    {
      "cell_type": "code",
      "source": [
        "# sort -- only list\n",
        "# Changes (modifies) the original list → in-place sorting\n",
        "\n",
        "numbers = [5, 3, 1, 4, 2]\n",
        "print(\"Original array : \", numbers)\n",
        "numbers.sort()\n",
        "print(\"Array after sort() : \", numbers)\n",
        "\n",
        "print(\"--------------------------------\")\n",
        "# sorted -- Works with any iterable\n",
        "# Does not modify the original data\n",
        "\n",
        "numbers = [5, 3, 1, 4, 2]\n",
        "\n",
        "new_list = sorted(numbers)\n",
        "print(\"Original array : \", numbers)\n",
        "print(\"Array after sorted() : \", new_list)    # Original list unchanged\n"
      ],
      "metadata": {
        "colab": {
          "base_uri": "https://localhost:8080/"
        },
        "id": "uKJNIU1fMDGL",
        "outputId": "59e912c0-59c8-4424-9a72-d4fd7ae86608"
      },
      "execution_count": 38,
      "outputs": [
        {
          "output_type": "stream",
          "name": "stdout",
          "text": [
            "Original array :  [5, 3, 1, 4, 2]\n",
            "Array after sort() :  [1, 2, 3, 4, 5]\n",
            "--------------------------------\n",
            "Original array :  [5, 3, 1, 4, 2]\n",
            "Array after sorted() :  [1, 2, 3, 4, 5]\n"
          ]
        }
      ]
    },
    {
      "cell_type": "code",
      "source": [
        "# Shallow Copy\n",
        "# Creates a new outer list, but inner objects are still shared (copied by reference).\n",
        "\n",
        "import copy\n",
        "\n",
        "list1 = [[1, 2], [3, 4]]\n",
        "list2 = list1.copy()     # or copy.copy(list1)\n",
        "\n",
        "list2[0][0] = 100\n",
        "print(\"After Changes\")\n",
        "print(\"Original list : \",list1)  # [[100, 2], [3, 4]]  ← changed inside\n",
        "print(\"Copied list : \",list2)  # [[100, 2], [3, 4]]\n"
      ],
      "metadata": {
        "colab": {
          "base_uri": "https://localhost:8080/"
        },
        "id": "HG8RUpDuOiSJ",
        "outputId": "4db79293-48a2-4cca-d235-6a4293783b49"
      },
      "execution_count": 42,
      "outputs": [
        {
          "output_type": "stream",
          "name": "stdout",
          "text": [
            "Original list :  [[100, 2], [3, 4]]\n",
            "Copied list :  [[100, 2], [3, 4]]\n"
          ]
        }
      ]
    },
    {
      "cell_type": "code",
      "source": [
        "# deepcopy() — Full Independent Copy\n",
        "# Creates a completely independent clone — both outer and inner objects are copied\n",
        "\n",
        "import copy\n",
        "\n",
        "list1 = [[1, 2], [3, 4]]\n",
        "list2 = copy.deepcopy(list1)\n",
        "\n",
        "list2[0][0] = 100\n",
        "print(\"After Changes\")\n",
        "print(\"Original list : \",list1)  # [[1, 2], [3, 4]]  ← unchanged\n",
        "print(\"Copied list : \",list2)  # [[100, 2], [3, 4]]\n"
      ],
      "metadata": {
        "colab": {
          "base_uri": "https://localhost:8080/"
        },
        "id": "-P-1grjGSeo8",
        "outputId": "7716f837-3d61-41ab-9b1e-5b59b08b10a7"
      },
      "execution_count": 43,
      "outputs": [
        {
          "output_type": "stream",
          "name": "stdout",
          "text": [
            "After Changes\n",
            "Original list :  [[1, 2], [3, 4]]\n",
            "Copied list :  [[100, 2], [3, 4]]\n"
          ]
        }
      ]
    },
    {
      "cell_type": "markdown",
      "source": [
        "# List Comprehension\n",
        "\n",
        "List Comprehension provides a concise way of creating lists.\n",
        "\n",
        "> newlist = [expression for item in iterable if condition == True]\n",
        "\n",
        "Advantages of List Comprehension\n",
        "\n",
        "*   More time-efficient and space-efficient than loops.\n",
        "*   Require fewer lines of code.\n",
        "*   Transforms iterative statement into a formula.\n",
        "\n",
        "\n",
        "\n",
        "\n"
      ],
      "metadata": {
        "id": "oX_hFNeDTH0W"
      }
    },
    {
      "cell_type": "code",
      "source": [
        "# Add 1 to 10 number\n",
        "\n",
        "L = [i for i in range(1,11)]\n",
        "print(L)"
      ],
      "metadata": {
        "colab": {
          "base_uri": "https://localhost:8080/"
        },
        "id": "kPkEC-5FTKwO",
        "outputId": "8a8cca57-f0dd-4871-eec1-ec7f5ace4e4f"
      },
      "execution_count": 44,
      "outputs": [
        {
          "output_type": "stream",
          "name": "stdout",
          "text": [
            "[1, 2, 3, 4, 5, 6, 7, 8, 9, 10]\n"
          ]
        }
      ]
    },
    {
      "cell_type": "code",
      "source": [
        "# scalar multiplication on a vector\n",
        "\n",
        "v = [2,3,4]\n",
        "s = -3\n",
        "\n",
        "[s*i for i in v]"
      ],
      "metadata": {
        "colab": {
          "base_uri": "https://localhost:8080/"
        },
        "id": "vxFrezaEU12m",
        "outputId": "3ecd2e26-d9bc-4fca-fc8f-1e3bd5a4f978"
      },
      "execution_count": 45,
      "outputs": [
        {
          "output_type": "execute_result",
          "data": {
            "text/plain": [
              "[-6, -9, -12]"
            ]
          },
          "metadata": {},
          "execution_count": 45
        }
      ]
    },
    {
      "cell_type": "code",
      "source": [
        "# squares of element\n",
        "\n",
        "L = [1,2,3,4,5]\n",
        "\n",
        "[i**2 for i in L]"
      ],
      "metadata": {
        "colab": {
          "base_uri": "https://localhost:8080/"
        },
        "id": "q_lpE3bHU7cf",
        "outputId": "939b1c28-19ab-4eae-a8ee-ecfd342bd374"
      },
      "execution_count": 46,
      "outputs": [
        {
          "output_type": "execute_result",
          "data": {
            "text/plain": [
              "[1, 4, 9, 16, 25]"
            ]
          },
          "metadata": {},
          "execution_count": 46
        }
      ]
    },
    {
      "cell_type": "code",
      "source": [
        "# Print all numbers divisible by 5 in the range of 1 to 50\n",
        "\n",
        "[i for i in range(1,51) if i%5 == 0]"
      ],
      "metadata": {
        "id": "RZetAWfKVHfD"
      },
      "execution_count": null,
      "outputs": []
    },
    {
      "cell_type": "code",
      "source": [
        "# find languages which start with letter p\n",
        "languages = ['java','python','php','c','javascript']\n",
        "\n",
        "[language for language in languages if language.startswith('p')]"
      ],
      "metadata": {
        "colab": {
          "base_uri": "https://localhost:8080/"
        },
        "id": "XkbHhz9PVqFS",
        "outputId": "185f6830-820c-420b-f9cd-9f0567fb9164"
      },
      "execution_count": 47,
      "outputs": [
        {
          "output_type": "execute_result",
          "data": {
            "text/plain": [
              "['python', 'php']"
            ]
          },
          "metadata": {},
          "execution_count": 47
        }
      ]
    },
    {
      "cell_type": "code",
      "source": [
        "# Nested if with List Comprehension\n",
        "basket = ['apple','guava','cherry','banana']\n",
        "my_fruits = ['apple','kiwi','grapes','banana']\n",
        "\n",
        "# add new list from my_fruits and items if the fruit exists in basket and also starts with 'a'\n",
        "\n",
        "[fruit for fruit in my_fruits if fruit in basket if fruit.startswith('a')]"
      ],
      "metadata": {
        "colab": {
          "base_uri": "https://localhost:8080/"
        },
        "id": "0vZUFzJAVvqP",
        "outputId": "25ead3ab-2782-4698-d9e0-29fd1135541e"
      },
      "execution_count": 48,
      "outputs": [
        {
          "output_type": "execute_result",
          "data": {
            "text/plain": [
              "['apple']"
            ]
          },
          "metadata": {},
          "execution_count": 48
        }
      ]
    },
    {
      "cell_type": "code",
      "source": [
        "# Print a (3,3) matrix using list comprehension -> Nested List comprehension\n",
        "[[i*j for i in range(1,4)] for j in range(1,4)]"
      ],
      "metadata": {
        "colab": {
          "base_uri": "https://localhost:8080/"
        },
        "id": "cprIfYpXWFRp",
        "outputId": "45251bd8-8b44-49f1-8134-547bb781435d"
      },
      "execution_count": 49,
      "outputs": [
        {
          "output_type": "execute_result",
          "data": {
            "text/plain": [
              "[[1, 2, 3], [2, 4, 6], [3, 6, 9]]"
            ]
          },
          "metadata": {},
          "execution_count": 49
        }
      ]
    },
    {
      "cell_type": "markdown",
      "source": [
        "# 2 ways to traverse a list\n",
        "\n",
        "*   itemwise\n",
        "*   indexwise\n",
        "\n"
      ],
      "metadata": {
        "id": "q6mEOjF4Waq9"
      }
    },
    {
      "cell_type": "code",
      "source": [
        "# itemwise\n",
        "L = [1,2,3,4]\n",
        "\n",
        "for i in L:\n",
        "  print(i)"
      ],
      "metadata": {
        "colab": {
          "base_uri": "https://localhost:8080/"
        },
        "id": "vSSWoftGWjqq",
        "outputId": "93dafcc8-43dc-4ef5-be82-2f806baecfea"
      },
      "execution_count": 50,
      "outputs": [
        {
          "output_type": "stream",
          "name": "stdout",
          "text": [
            "1\n",
            "2\n",
            "3\n",
            "4\n"
          ]
        }
      ]
    },
    {
      "cell_type": "code",
      "source": [
        "# indexwise\n",
        "L = [1,2,3,4]\n",
        "\n",
        "for i in range(0,len(L)):\n",
        "  print(L[i])"
      ],
      "metadata": {
        "colab": {
          "base_uri": "https://localhost:8080/"
        },
        "id": "rjjokZwoWk1k",
        "outputId": "175b7a97-0f42-4732-a6b9-90c59a8d3104"
      },
      "execution_count": 51,
      "outputs": [
        {
          "output_type": "stream",
          "name": "stdout",
          "text": [
            "1\n",
            "2\n",
            "3\n",
            "4\n"
          ]
        }
      ]
    },
    {
      "cell_type": "markdown",
      "source": [
        "# Zip\n",
        "\n",
        "zip() combines two or more iterables (like lists, tuples, strings, etc.) element by element into pairs (tuples).\n",
        "\n",
        "If the passed iterators have different lengths, the iterator with the least items decides the length of the new iterator."
      ],
      "metadata": {
        "id": "cBtUWNd8XYEo"
      }
    },
    {
      "cell_type": "code",
      "source": [
        "# Write a program to add items of 2 lists indexwise\n",
        "\n",
        "L1 = [1,2,3,4]\n",
        "L2 = [-1,-2,-3,-4]\n",
        "\n",
        "print(list(zip(L1,L2)) )\n",
        "\n",
        "[i+j for i,j in zip(L1,L2)]"
      ],
      "metadata": {
        "colab": {
          "base_uri": "https://localhost:8080/"
        },
        "id": "ff--zZKcXaeE",
        "outputId": "46556ec5-dbea-4f35-ba53-f6e47b117229"
      },
      "execution_count": 53,
      "outputs": [
        {
          "output_type": "stream",
          "name": "stdout",
          "text": [
            "[(1, -1), (2, -2), (3, -3), (4, -4)]\n"
          ]
        },
        {
          "output_type": "execute_result",
          "data": {
            "text/plain": [
              "[0, 0, 0, 0]"
            ]
          },
          "metadata": {},
          "execution_count": 53
        }
      ]
    },
    {
      "cell_type": "markdown",
      "source": [
        "**Disadvantages of Python Lists**   \n",
        "Slow   \n",
        "Risky usage   \n",
        "eats up more memory"
      ],
      "metadata": {
        "id": "6BtwvPsaX7qf"
      }
    }
  ]
}