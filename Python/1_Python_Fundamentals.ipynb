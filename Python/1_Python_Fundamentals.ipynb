{
  "nbformat": 4,
  "nbformat_minor": 0,
  "metadata": {
    "colab": {
      "provenance": [],
      "authorship_tag": "ABX9TyNgTHBzGMZmZkMMYVTsFWJ4",
      "include_colab_link": true
    },
    "kernelspec": {
      "name": "python3",
      "display_name": "Python 3"
    },
    "language_info": {
      "name": "python"
    }
  },
  "cells": [
    {
      "cell_type": "markdown",
      "metadata": {
        "id": "view-in-github",
        "colab_type": "text"
      },
      "source": [
        "<a href=\"https://colab.research.google.com/github/aman-theanalyst/Data-Science-Journey/blob/main/Python/1_Python_Fundamentals.ipynb\" target=\"_parent\"><img src=\"https://colab.research.google.com/assets/colab-badge.svg\" alt=\"Open In Colab\"/></a>"
      ]
    },
    {
      "cell_type": "markdown",
      "source": [
        "**Why Python?**  \n",
        "\n",
        "1. Easy to Learn and Read   \n",
        "\n",
        "1. Its ability to express concepts in fewer lines of code.\n",
        "\n",
        "3. Huge number of library in Python\n",
        "\n",
        "2. Versatile - Python can be used for almost anything\n",
        "\n",
        "3. Massive Community & Libraries\n",
        "\n"
      ],
      "metadata": {
        "id": "0yYetSmflgOO"
      }
    },
    {
      "cell_type": "markdown",
      "source": [
        "# 1. Python Output"
      ],
      "metadata": {
        "id": "Y0tg11dfnhew"
      }
    },
    {
      "cell_type": "code",
      "execution_count": null,
      "metadata": {
        "colab": {
          "base_uri": "https://localhost:8080/"
        },
        "id": "AGahxCKklTWw",
        "outputId": "f69fc845-519b-44f2-9a6f-b5d9de2ac844"
      },
      "outputs": [
        {
          "output_type": "stream",
          "name": "stdout",
          "text": [
            "Hello World!!\n"
          ]
        }
      ],
      "source": [
        "# Print anything\n",
        "\n",
        "print('Hello World!!')"
      ]
    },
    {
      "cell_type": "code",
      "source": [
        "print(7.5)"
      ],
      "metadata": {
        "colab": {
          "base_uri": "https://localhost:8080/"
        },
        "id": "nGexADrnoEml",
        "outputId": "87d02850-8916-49a0-f1a2-b1638ea8989f"
      },
      "execution_count": null,
      "outputs": [
        {
          "output_type": "stream",
          "name": "stdout",
          "text": [
            "7.5\n"
          ]
        }
      ]
    },
    {
      "cell_type": "code",
      "source": [
        "print('Hello', 1, 3.5, True)\n",
        "\n",
        "# changing the seperator i.e. \" \" to \"/\"\n",
        "print('Hello', 1, 3.5, True, sep=\"/\")"
      ],
      "metadata": {
        "colab": {
          "base_uri": "https://localhost:8080/"
        },
        "id": "gzEX3riHoHMh",
        "outputId": "2f37b38f-d905-45f6-f2d0-fd25b8d02484"
      },
      "execution_count": null,
      "outputs": [
        {
          "output_type": "stream",
          "name": "stdout",
          "text": [
            "Hello 1 3.5 True\n",
            "Hello/1/3.5/True\n"
          ]
        }
      ]
    },
    {
      "cell_type": "code",
      "source": [
        "# 👉 By default, print() adds a newline (\\n) at the end.\n",
        "print('Hello')\n",
        "print('World')\n",
        "\n",
        "print('\\n')\n",
        "\n",
        "# 👉 The end parameter changes what gets printed after the text.\n",
        "print('Hello', end='-')\n",
        "print('World')"
      ],
      "metadata": {
        "colab": {
          "base_uri": "https://localhost:8080/"
        },
        "id": "hEyP9ZejopkI",
        "outputId": "a3a580a4-dc0d-41ef-eb73-5ce85e8e1fe3"
      },
      "execution_count": null,
      "outputs": [
        {
          "output_type": "stream",
          "name": "stdout",
          "text": [
            "Hello\n",
            "World\n",
            "\n",
            "\n",
            "Hello-World\n"
          ]
        }
      ]
    },
    {
      "cell_type": "markdown",
      "source": [
        "# Data Types\n",
        "\n",
        "[Data Type Flowchart![1.webp](data:image/webp;base64,UklGRupCAABXRUJQVlA4IN5CAABQtwCdASogA3EBPm02lkmkIyGhIZj46IANiWdu/kA5h2k/2b8FvSu6fet35V+J/9g/////7a/419qvCZ+oF+Y/zH+o/ljsF4APxh/vv5l3Tf8B5zXbvouf47lBOcv7N7APy15e/vT0N/q/+f9Df81/u3XFdNeA3RHwB+gsgITV0AD+Afgt+Lu0Afx38YNwA/s35Abpn5Vv6T+QHkzepN/Gv7F/QP2x12S+mHHR01wn7OHom/Pm8i/a38QPgh+yPqof7j9cPcn5QHW9f1/1GP289OH2YP3gytSNlmmY+7QPnH5Y4j5UBl7/Zcb2kd+UdBhnceqvYS/XbrS+i7yyQO1sUbksMsbDDcEJHCRwkcJHCRwkcJHCRwkcJHKqWBe/hSwL38KWBYmAmX7bWfe1jn5fZ+kyJFIaiogkXW8kys+9rHPy+z9JkSKQ1FRBIut5JlZ97WOfl9n6TIkUhqKiCRdcjovxaJe/hSwL38KWBe/hSwL38KWBe/hSwL38KHJ8S+2utKwUVnl8bytIUr/NpI/e27qt6wPO9zDhVMRosBBQqcXTTFnlZ+AIT0OzQx4HarObkLY7AnrrGQL3/QwtZ3kqMUC2lRigW0qMUC2lRigW0qMUC2lRiQcfmBQFGjGq7Jl8TBHiwmp/2VvLGq085OQJ1/QhxwHK9tRqIGORBQnCL6y00Vx+Hzhl/VSwAw1EM6p94bcnpx8FByl+xlDk3cKRE8Rt3QsYKNylGsRGOSoxQLaVGKBbSoxQLaVGKBbSoxQLaVGJA90nMKxWgXRRYl0O1dGVx77OErKxjkMubQPpzuxiKwA60RPc0Qph32nQA92g0qrscMETzeEOVZWnaigQCPDVucjGKBbSoxQLaVGKBbSoxQLaVGKBbSoxQJdBCBqAO/O79qHoljv1ywsd+uWFjv1ywsd+uWFjsaTLuihWEr9IrbJMu6KFYSvMzcxttJl3RQrA81bt5Pwa2PaTLuTKXv4UsC9/ClgXv4Usf7AvfwpYGhoqVGKBbSkVHfrlhY7/6F7+FLAvfQWVGKBbSoxQLaTBmdOa///yaIJL6coNnL8vYHnGfTdi4SMJmrXYm7NPl4pQKJn///w9v/////y0IpYF797dn8U3iHc8O45Ri0v713Ikz+T87128Y6w2BMwNzgLMvqjs4C2lRiSOmeN3bw1OLCqJn3gICw9ocKdu08RrK06pjPpzGGNrcU2vfwpYFlkCwmbZ8UfHWxH06HgzZpI3Fjqfep+LZPsvjsdRvZ8GbwZvQX39NCdbJoaCf7HbJ9xJUN/ClgXvs5SVLydXifbZ3au6KFRj4VzjiyBbSovGNhbz7dVCsDMdQNKJ25YWO/XK/+XnBDsYNBrY9pMsB7u0qMUC2lRiceXLCx2rcYNbFVyg7+FLAvfvazTy9gRAaqKqF8XAWoTk3vc1bKH9yRYF7+AvR/7mrZQKM5XLT5PcPvFsnVvjvLqgtpUTTtl67S9etph7d2ZkCCaYn9UFtKTwa+06mDi9WBC4JxyeEAd2Fjvv6EBFivLQilkAvmy7bwXrxpgocYF7+C3O/QRSFanFwFqUvclGIoq0lhY7813rlKjB8KWQC+bX3uAOkXpYF7+FIYxES5I6lkAvm197eMwMjbAvfwpYFlEzg29eiJ7+3r6eai9LAvfwpYF7+FLAuZHiudX/+Cl/8KWBe/hSwL38KV/bxhSna8nmrbzMYoFtKjFAtpUYoDXb9yzsv1Dywsd+uWFjv1ywsdhgv5KIk7iyWX2O/XLCx365YWO/W7Z+p5iZ1bNquFLAvfwpYF7+FK8aMca8JG4sdmb2XPWOzXJ1N/ClgXv4UsC9/CiPp0QamzaB/7xU/4UsC9/ClgXv4UsC+UE7Yl7+FLAvfwpYF7+FLAvfwpYF7+FLAvfwpDztKjFAtpUYoFtKjFAtpUYoFtKjFAtpUYoFtKjFAtpUYoFtKjFAtpUYoFtKjFAtpUYkAAD+/8s3G0EyexfanEocltTUDv/QC8dVWAtBMnsX2pxKHJbU1A7/0AvHVVgLQTJ7F9qcShyW1NQO/9ALx1VYC0EyexfanEocltTUDv9mH7/+JqzBUxfiIjjf6yT+b8bm7Fc0L/4hoXV1RRTR2OvNaQn/hBKLiEqX9rTjbuZfBfQPXVhiePektiXq/07dWDFOJxu3GCvQRl4LClg9SjZlX+gBWQ2cs8KUk45TQz9+eaVWfaJwBCMtSG7nKkAkk+kiZSyrft+mBDwPdGZJxrD80tIoKhH64KU/Xkme+v8cs823y//7OCJsoOQ//Z3s+YRwBpZlynySb+U+UAQdkbuRxtR08vlkY7uxv6XlG/3Zc+lLzRv4nUoEmj0EK84Z/PDwwtqK/+QbXxNN5fb7QmovtaFW5bpUmL2PtvQMYA319yhThGli++k3OJfmpzttng/+s/QP+hzRjeIFh8/wmgN2qSCMjfQXUPV2cQYJF0AtDzbIhwHBX7ltBzVDqt31by0Wz0zwGsN1HAND+YwdygKsrF+qskOX2K+2xUEL7klDnbt4BJrs8bwvD2WJ08ZCbBe/B6jynSLyIIc2o0Cx9CeQk9J6hms3sh5py582NhBFphbz42IMaVtqB1ZLqdxG+x7Gv+vb1qfAyh/3sWCWjtpTnnped1HhwtsZ3Lr8B/ZxNHOjc3X2IWsHNBrK7vsAUpVLumOT38KrgrYe77+PHwBAOVVb2Wz8YzaoAjXD64QpXXXMmPayMKPjsXS5rctWLmHq+Ne06+2u1SB1NegaJmU84y5E1r9Wjg5flJZpmKP6z02lnas/Utrd3nxUEfFwmpW6r0amka5Z6FaOIOm9TOH8vZ/6hvYMu+pGMtwecfrJ9z6C6qxVmnzvXWcIdy9t7lPfrd5IVIbZXCQxq544XZrbQv+h196/H4+br7gNph4V/u+p5JUV8ZGOhTa19XMeIAizvsGdjzI6pqhLLhNPLaDrPIoVdnyPM15dz1j+5oV23hK1PjYci6weF6zfPsM1OvRC1rrj/wTQ7jbEFnFuzj+oYz3QXa6IJzZKoXruqlXY25j1reZK/f2mTfSor5B7t51SQZwe8ixFrCfh221IIqtxsHphXeBHnQlXF0TOFWue3bN2tR38lv1JRaQHvVBLemFx5e9ub34vJ05RCyQHJTHALwP1l+JCltsf7C5+vu3rRceYBz95fzOST8Wiv/8zXjfqMCVz/wX+Nv1M/4lv7/OI43fFX/xhc+0+MSxdh5bEUpkeR+q42IjqtjfA/Had48+ezldfzjAvyNP/Pox+ocf/z/9GupMwSO74v/Fhf1/K/sPrhTjjZ2cu1e9I8YJNI3vIhaSTfiEaHTn5nRsycJSPlYkXMlmOWvmtzu2TOkkqUCqWNOn67g8gnT6/g8gS+6pWjPwlMI7bIT+Hxm98HBFDKm8HqsdfkdsnEOE0fa7QaW3XaW+tO5dugOZzf69gK/Xf/1Qeyyzqxw0TKOHZemSnUloAxFpcVm9RIIBfCA0YBTQrdRlmb5sjRiDLOnt88txG6JtWz1yVwDze+l/fowNzY1K1qXybG+khmVYeDNHMJY9MPGxTs+/8wk/Ch7IixPXSwcCf7P0m1KvgnKMmd4OqDkw5XjSss5d1y7QD/wl8dvpW7e9wuc7hnBAe9dteVG/7AOednKrYrmIhmjkhLcFvyzHV5VvxkBmsfKLPGdXDC3bmRkFiUHslow7QJIhqkglgFJZPJ0dYPaGszt6QV5OxKyyxoa0i3DqD4Ow1kryXkb1HqPoj8PF3u8/34LlP0UybnnblZ6rjZega6Cr8xgw1PRfBjfrH6UEC/hNJGxAxDBmi+BrB+hrNXjTb3vSN7hxdUSN3W2wkzim5w9I5CrP7btZpmDh230Q8crZgOavB8Ag3eTbdcf3MPGk7UtjxWMgAzHHE4H+tOA55OiE3a8la5n02tPEoa9x7YM71Wie3GtvjdVbcCXjHWgafROZbvYfgUoZnnzldVkRcL0OtRnlAfzLhQF+A3FioIU1bLuQxVOFfHCmJ15ycIaNww8A/uV3zm0Xc9n9PxoJJ+j5YwOk+H3MER+sz+v/Gt+DC3T+RtQU56p5D0uT5tvddeCiWyikOY+uM3VlBZ9wo4Wo2HXiD41WduuDTqmkyhiAJKktIp8j+eIPHneLRQtZ3TMqlPY1//q4RG54SPnMu2eA9rbXjAiFYDcM8eKE2s3YzgvtFJUL4JoPwuItvu3zCk5TI25vydAXghbKPzV/D/pknGk0dT9eAL32ncr0ILHPNyiWgidgvZ8ojU9g1nWFfDBT3PvEkTAf0ABVFbsP0gSSpmdiGwO6fHTo44YVfTIDK9gG4k/qm/bWH0vo3KdWOeKzq9Iv2+38Nd2arazYIwqh1X8FkCyOlKTC5uCLmvwU9wJi1BB3DZP+f404eTKw0AByFXPF3ZgMsrf/wtfZx68akhK5XefHYp8uZFyL7LuNkyEpN9z7cHPITSuP1oQsj8bWVfINPJtPJo6jkaCz/G8EQe1lbtBTZ8JMoF+yg1PjpH1u0ar3z9S4NxoR6Ep3199xOLA9h8UipPyst/y2lzBtP86I9pnWF4cxRGBcG/jcHQcc5i7KS3CpMVpNN64c2qhkzPKp8KrYpclXqoCBXSxcfhK9GTAi/qtu4Q6bI1LQW0gOXJTkKGgZq7+63l1W2aVQg5t8dL7rpY1eJxNMNNxB1DBE/D9Q9Vbq0QF1w7WAJfJP4eaQjFlMz6GuP87jIrSsDubT8iC6r+mAxv2ciM5j8AnVtwRGtAT7H/rVmfu0zerP2RlraC4w4rsEWoW2M7jFY1nI+3Brsg74xj1K3O7eXoBt9Nwcb7KKOyf0vCMcn6E1b91frnW6Q6ozrQr/pxFuqCYT/gMq8+kJiny9gXF0JP1ehP+yg4gMndXoYaBn/nijLrvx9bUlvQQbxLwHAjvc4l19U3tEZHRvb5PsBgB9E72FFCYNT1i6bXAZYzSZBzVzEf//+JtB8jB/iL0D/nCn/wCBX4J4MTko8yQ1tfdVwqgnnSuS/xX7u+mzVRQtt+g+Xybkt9TBXawlx+vr/NoaEPC77WElSGnqhEAux/fpeXhROKJYi8c+ky5Hb+6ev/gWv+BppDq5h+BLi/kNoJNdthfr2IQ1d6b1GSclNQA7DPJ2xidp1FlHVGDl1rhziO7x6cwoVhAaCPIef+qLdOVATvOMZiyQ6SUHzoo+SyLh7Aj8X04b3XEllNtcvZqsmmO1N/0rKF7aq1E+Yz+/0ePovZLtT2N4UUN9M6PaLqMSb8F/8woxWYF0+IdUl/+Pi/L2c9BGv3hcW68t08ClewSX8Yl/4k1PzHQjxO8YvjF4Gz5O8e//4Qmz/whG+oAFuIYH/+H0npjZv4Fr03/6jYfl66LL6XcYMcV2Gjis5Cv8lWWV+j3vvJcXkv9Z/+15G95SKYZXaoWUVv11/8pnM5nlOn4o62nl8adlgX1/zDaX2h3GZ3MNW5OB1vXvDgpewDyr+rnM7mYePEnsjJJ/8MXJmCv92h5080/vYYNXz392h6IIM/3sZy/ejgQ/rnMXOzoEGhXPLiDrP7ShVEHICp/nku7DKeYiwfkofvb/hL7eZ5n/z/Rqs9noFcXmZpLTxMyfc3r5k38pSupXEUtPSFpsCQJYif1dFu9z4x5+FJaeNR6q+IeOjjnWb0keK6mYn++1udstfXKz83EH6u05hKyk9eZvwfHOVhjeLxB9Qf9pR79uf+f6RUWwZAsv8zNJaeDWStEISqZbFnzAT/sQXmdysflRcjI+zv/yb2RuOe+QT8pREOLRUZiidqUJHGQgKXfvqd+pavLywsgbIUE6aeDWSu/EG3FhxyiwE/LDoLx5iP8xbt/YN+0P/8xLx+Ypgr/X1rAHxKpLTyUTn/5Az/zZvxO4LfgiJmctLw+nosX/4mQRIT8YuUDOalNEyJ+mffvar8flHkPjmyYh5BNVwwI52j+zoDYNi9fmlPcG4RtgQpdbn5EEBpaFBOmng1krRCEjEBAA9gg4PbcAQvj+hX9mnz//P8A/5/o1UH8vQK4vMzSWnkuzHX8wE/6cV5ncrH5UXM6aig/iZK1xZH/x3AiuxdNKDUh7HbPMumuYQDAt0c2YnMUdqWT8Vh/aW55+3z/PRBWlWuK4RCzXQr1VEH6u05hKA+nluT14y+OUWAnYKkyw+nW8lrrFL4SMP/59gm7OsqZpLTyTjG+DX0A5O9ipzjL9OjH954uvhr9e+J3Yol4LfjK14nTTvTyLNzvcPP4BTe7Ak9//DcmOdjdlDuYGxD6BPELJ8O7iqu88/aeOQJZj7LPAw1ajL5hSV457I+d+vVvdMv/7GeiOds2LCkU/1/fd3Pff/Jq33+5/WF+En/45/O9/9p4YWVeuQ188RF/qrGaPcuqYn7e/qNNgHGIEUJQDWp+d3/+uXHpchGbf5qzuWupW/f+GqTypYPw/gQNcaa296/m4X5nYTek/fJ/Br874c24mgscj9RaRt1rNybqzcNv+hrHQZ21w8ErPulopus8FZJ/RaUg8NvVRfDB+ByuR+Lg0fI0+B5VDN91/lxZyyrU7Vw5/hNrfz/5O8vmKfr/pmHrH2Vzre4eVruT8ozhm82PGLxvyN4bTdOIoyp/V96B/Nnqkf+aRPv65RtJLqwfajsc/8itX9pO7+O3xy2dvXWNXAv+VDgX3Oi++Ii/22e/yXPJ2AEDweSa8z+rm/4NelzCwPf6zKHxT3B1qRQkNjGnxi9Ga/W8tHP8/rUQ2uaweq2f8hz5/w3RlON2SNHXqpk/fGJwvWBPwTbsY/yKH/jpS5fiw//GPvk7wW+jZNy/6h2ZPv+lzb32iAVm9VHd+/9w+Wj+OqnuPOGXEtre/7e+JHpELrCzhS7Pp2TMW8BoHC4Slq371/IyPfIh94XfQ3l//Okfu/atJza1A63+/8+80aAHlTU+F72/+EGvaU++2BE+PyVIn/+S9u0Xv4J3bhvH9rmelPsc0eXLH3J/reekDef/VzmOOdznEks/glC01t45XXepP/2dRkXXGuV51R1ak/eDo0sqcNjhDZylOAL/ds+0ZWcoHsftXCGhUE0NYZ0bP+E5OyYg5M+7QSgoLQSgo0d4OQGQxJDlFyLE953Df3e2cZS97xIU4+SZYMTbYx7/xV2p//nuPdzS4neL6blSN5n70FJchEoR+ei8iP3+dup3v1wTa3e///oBEDhRH5uPybeTvM6sc73Y82TaVj3/uHwjhy5Dj/W73//9AHCJtroW//SkCekS7WsJKgcvdwPNwdiZitrc4Nqf1ut3E/qKUm6rnsIZBg15kYBB8RF/qsaPlzruZTI1f07q3wQ5y0tQlka0x90bnR2j8neswcNeIX87/sKvJzpHX3+FXgYjQx+7u+bEp8ncsY6nv/RlL73UHv7I5fJ3w18Yq7Ia4IR5ye8bCi9FeWuH6LcqKfNgHcrIhGj5ecyVe9ahu65utZfiD//BMHk7xl/Fjjjb7Y7/fHxczq0LZGC/xJCOb2859addy/c2Z3eDMJs/eai9mdX6XMTurZSXa2fP/+sF5LDHS51771/SqRnqmzLj4ndRxCHw/Jjpustc710vwCDrfpvxefDTNw+pF2gnJeJn/PbzCR9a+K6HLv84sZ8ZzLp6XNXOo+0XEQf6CiGOONpkit14UZNfOtS2PZul97podAVpNrf/Yk+v/6V9/7/f9Ltr5jtwf3cD9LIqZpw3wET+WLj+G5gyll05/+MXmL7m1+Y9tzrmH5O8neFxO3zl/2AeFbuPHPvz9GfAwY6TZrnVzuv4UfNbWBklmPVzk6Zx3L+3vid6vTPvz8nZYGtnte7rJNzrfaiRqYIRGbZtg1rIht1JyEa4kt86nXlkEZYj2k945IoRfFbCJVWOHf/1XDQ+v8fM7k4lL5uvr/h3lr16u3+DWxrOfcgxUt1byBN7AJxSVNw4Nj1c9p0RW78SRC6K8x0vBc1gdMrpldMrpgcaZOpsyYfcRcV6YUCUQcmfrTakAnZcqqWhcihX/Vk/zxieNf6cMNaaVoslAi6fZ8fUxZPCW55O+Qn+s/80K4xzm7+UtSYNUY53ek4MZeFRR5nVW/1vAZ4Bp47xgGr9t+nTzu4PoX8ipY/8rPC1evFtnzRs8D//+3Uf+a99kHAmiD8Fv0l9ThwNFGu+MXglpMmseM3M766Dich9XEP1S9+yvXMieJeGMzX0SCaXObApf8+4H9ij9HCMPE7n/ya5hN5IQBn4iKHidv4eCYOM5abLJ7PZPv294ncEwd/uf1kz0r7+luunI9i9Ot1taPTZ0Z7s+YWPb5JF1NPwSH/S5pWyu2wtCDr/w18EiU6GyJiZU5q1+p/WfTDiCX+7ptv8/uD/EBf4cR7uaPgi2XN2b/Bk06uKJgmM/qzu9Mw6dy2+6Ynhhb9Cc2pXpjP/SfPzYfCu+A86CuM9G5m6jemYdOhcdf+oSwq/ib3O1sXyzTh3uItoYSGvV1whEag7K7+fhPYkr+MkPvSCHQ/6UI7xO39IoZQwS5MHxh6tPaJXqhSVMXk7zDbaEP2bl8k/3/+WsuWj8NBBS8/z6VvzX3Ryq2ZyCfRP+2nrd/fyd7AHCUrE+V+kCUHdf1fJ6JdQKd/lRftKPATXZr5/9k/PHc+x0FqSo6jM+qfo/RX3k7yd4kL6e55b9Ay/26j5n85Xl5O8I5v8Oa7V3v/4yVPXMfrjz3/Zk3r6LDqFnTisSw9SgqqazMvCTuIOaoPbJ7ZPbIvEpMIjhw/8Lr/++yKXu//mg971MF3dgX/EwJ6s0+xzR5csfcn+ro7wvet2j9//hfU5zP/+oZkyxO3vuv489Rb2iSFbPZ2o9Jjx/uuQ/Go0hqzmd6WJVkrjAEmWJYfVChhz/l+oI7JmUtzD5vLx+J3M7n2kp4eMdCbtTP3a3IZl+z//yUgWlp+qMPZ/JF+xsf9Gi7/hjV+psd4lVXlr/ZR58z/pLRjTvaP1c64uCpUTVjdd1HhV9/wsD36KkVHw2YZx8kghvzVOvfid5+C+J0Pb8t+oQT+rnlzfyWexPE0AJH6XOvfaPxO39XNxT2bUNTTcbkhTFyAu//38ItZTMbbPPf4NbC+N07tC6dPubr9nPgQemV9/8eLVGiCOYgdZiYH5GB+RgfkJ3tg4A67XlrifH/x/3tvpeqg+ZvmV4jkrnzmsAN2X/EaePFG7/tH5O9ExB+vc2f/WPzvw1Eo0HmSZXdJnUvG5A/6SD7k/w5WovdYzk2g762HltoIb1np/dRExEs/17/HFc92e0H+lzi00Qev0+86UI7xO5EG26WhCHkJTjEW/aA23PqbzP5O8nd/S3olpbxnWI3bT/f9LmTvaG6tJDpm4WhM2j9va13USdr6XPIq+4KRuT2kXLx/qtn35H6tBS9I44WyJ4MfCHsrVqhjCVjBuPK+tq25HCfwQb7HnJqTs+Z+erPyTNHE7h2Dn17Vizanf91pP+O5edKsfpeTnH5G2lvfnqNZ/F/y5+nKDlBoMYH2ioF/XaOSlHz5j/azD89P1TTq+cx5MLarNR6wg78XNlem7TNoF3vJmcX63GXiUE7QCKRXzAY8xAtGkAINP/iGj/+I6uKVjxCDzlkDaw7qNYfDdDnvSYBO6dHhXfi/L/C/x3He46rY2T575fME2LH+0sKvMx767gHbwc0WN61V8xFjTclgNkRn2SP7Do8w4PShHeJ3J3tuqidymX/oZlcP3+PHbSS8yHgHttYkpj3gT50TMLkUfQ3xj+2UjmcnjLclhcLReO3zLReha3eMUVZLIf8xnrLH6vhYdps+yD3ju7VrQkgKM5DELrj8a9hrfHwiYzydlC/9duof/y3ZZCF1L5n8neTndKo9bZHSY4jLvVyb39XHR3u3CCT99m5Mpd9v5edJSrE2+lzdf1a3/N/0dU8OyH4Wfw8MkDZskhGw8+N/LnzO6Knv+HV9ZdPFvzMb5kWN8ZJs+9zCs3/+64PppBOXzQuuGaeB0QvwaZeldkF57h0MvOhxW+vJ0IOZFxGr4qpmKCn9Jb4JoAKyzrBeMQ/3cHhqq2Xf50EmM51gsOpc8THyWMM6jwZiVv1fgUJQhdzx9jX4UN3fYYDz6cJvIJ7fJ8+/v9GfCPS29yI//mRH+2xvv+Fe9w8K1+XvCg/4sTnr7dRT5Nlna/BMHV8YT6WBHbGifPNfUk8Tu/0sh7POoOvJt80Pfgdh5/9lnq5/pT8ib3/hpWSPiYxZ7/5nW1HVYjXgNRU+iy5TTzah8ypvk71c6XIC+uO/IPL8EjaMtK8wueWQWex3Uaw1PeaLSYBO6dHhXfArpkHwdZnofIiKNz5//XPBMR6vzMrVM4SN8uDH+7/hV5ZDju9tYx11fiK/KFC5Q95eFtgXflrb7Ce9cq6UI7xOv5eoof6zIWVf9s55Fx8dHTkKlxY5OFo8KMOhY8LCkQ+jBNCDA/m9I8HrTYpf8+lQlag4Wyr+z/n9k3h3Bc7WY7fzsrnE7jAPJ3icuXVviwKbwz9uZKvBMp3ria02CP4M4HhxQFwqdwDYSRlr1VeT/lNmPVzt70NVQP0d/BKzEEeP96uK45bT/LopwT/yoKXU41yvpwQ/yScEbCPfAI4fldw7X8+FR7mU9aUHOKRFGZ1hGPxJ8eFJZPGIuuFaszPndL4z/5mnuoGeL5eh0/kgYf3r7+E0p1su+8ajVJFuTM+Vmz+1m7tH5/9KugDP8iydC9f5E5vdrMdMmWZPf4u/up/F3EP/vfkFu6AFdTq/wQPICdWts6frrec4Gd24NugZn/ev5GSriUnF9p3JNfZ/J3t3BeJ0KrErZBH3kGO/3JzuTnIe+hXbhEVYLvWEQesYRgJX61EyPtCeetRffmA/nPF/HrXKz+4PivjV+k2UivqFnR6Kk5PaszY9WSXhf/IfvEbeqv3/+ynqQ8/+0M4Cs1wb3wl/Ex4C66cfafvtIC9TV0cSg2XQSj/F/6oin/vSJDF/wGscgXov/+BVQvfYB5Am9QKjM3k9D+L/nfdf4MNlCAJkiVCvelPmAN/jlsoFzO7oW/P9//y46vI/H1NzsuNy3yFV/wkuyVXfkhOVe4mJRpN7TuQRZb/ro1O81+wfwSfp166ou/9ZK8ny//a8D+jz4NTmPryPdfweexrI5kR/F8/+//xKtidxBVzn7aNgGkJxwLYXS4pCG/Xf//+2rVF/ASCv//eIzkVXfd17kis+6/3wnrSr12XbHoMll+6E5z0GajtCa1GvP4Ab+Z30bBz5AKLttQyAWMDBSAx+2ueXPwHCJu51+NV80tu/MtSaY9mF8KZHuv9RkdXOYbX0PHBHDLxV+uJ3qNNo/EppfO/i7v+tkxq1lpTk+lakQfvcx7VS+C/CEvj5mwjbOf/UAbus3hOvob7il3sICSpKPRVl58yI/55kFFCeThBdKjdXPKqefv+oGGXzf18Uj+3itZoFJEb32AGv76L4ziiNCB+Rdrwz8MPWkFW0W1t04gPB67D2+GEaI6YuXW5p6yGlePze/so8EWuc3r3Cq47XBBV/DJuISr62X/7T+hSRwEw5w9p07md3r+lH1FVw/Zv5FfjWPjtcVuRCR0AVoto9UsgppX32XirJJF9598t+iV/DxDcTkXq50r9qYqHYpV91pw/d+uX4viS1VPq/Wmx98HoqfaPzOSrxeH/Esm91/hr4nJcW3ec/bRsA0hOOBbB7xZ7d69cb//7auj3/+3s2rW/6h3TUPeeW0vFnyd8NB7Fb5UzLY5CWDxgBQurnX35/3UcvdXPdU+aL1Dujdwun//C9QqiR1Op380Oo7ym9/WsTjaKQwyeyV96NC+6drZpdqug5PLJly8s8GRcoRv6kQK/TOekTmCn16ud3d8geDxBU+7y5NA6H/q4oPfE6XaTd0E/Ql0iHTFaSW/yDGC7mf+0wMdwU/yrLU4jqfLkGYJ42xbf/8GijiMN//ygETf//k9KEiFuL/CVOhJ4AAG1pHioNmEAxB4YBVawH53f//gp1Wsaf/5XP/y4OAwc8zY/+ZQg+BxHd1IRW1P0RYdLmTvILUC1yJ5Mmg+//3/+NgeNr7cIswgZwElPf05tg8cxv/6jTwKZn/mUTjwPLf/SRr/yDX/S5id2K3wVv8WEby3kJ3PnnaP4KRCU4eJH/va+p9cl/yd7r0cEsfdIxUU8hsZsQOSxCcPt11Q49MTKiUWBQaNSgOToataJahl0z6sXSLn4bTnc59eOIzrPr3+x1ws0IXXZAxe98WhIkurJ9PZmN+njQA8kKonZmsleUdiH0fAa+gCU4qO+ZoWm+e/zPPtiLVJH+8PIqjP5ab/ge/307ks/HsOeXNTfc4rs7AOfXApMXA0miw88z1rcWp+K9ooZXrv83B+ef2O//HAvqw+Kd/2WbqUhirnQc//USuOiFx4lVjYLbVx/TRiernWWPxl+/3/WMZsAFndejmCDkcKhsz0oq/ZhfcgJw+D/jJCcJ/yH+x+neh55Em6gtrIz3f+JrhB5vb35JXDw8nr/ekmQRJatip+wDyZ7wq70dPnbfid47fP/icz8Gu9ht6N/y7WAL8Tux1vHGrzw53aSZ67rXH/Hb7kalHqPOcioigp2gb/qf9zZ/uSPn1DhSW/pawsaFdB397CHmhl/fzY3xIgqfv7YvDv1yxkXXNZPyd8ivn/47fVBOtkj/99VPubTuEHBiJRhUHmv/yYTz54LffwlDcMeYzqbthjQfhqnKNO4rbV/NAS0LSHMBzcsLb1tj/1x1AJ7Y79sR6ucm7PW/t/jDDKV3b1BuaV/5V/WO3Kpp4v6c/P/KNo1Gq8QLR20Rl/4XJn35zKu0wNRB+yltQX90azu0ftmhKUka8QOoPr/AOTvVzb5xM/92vOQ++d/7rEtf+Xid2juMt/+I/0b7dGMASpe39Hk7zcgZZ6H+O0/RGnn8ZSP9eMCFtFZ1+jTczfzO2hdzyd5B+g62vwc/8m3tOY2QDoQbeDVxP9h9qXRTvmyPf38ICdDAzIvfqGv7P03hr+DI+DWxJOCITQ71c9pg/vCA11HfNV7+FatGHzrZRe9f5cm/noSXz/44ucCx2xu+gHikutpC5FxKmTP+g1k+Dzfx7bzP/99ueigyl/qKP5L87AA3+FgaXrH47fjab45GotqRfn7aue6/fy5Orhmf1y5SP/YbDgAmE5fTm/yE4sgVLK/0o748f0QCV53//Oy7DDJ4s/I11ltzRhmrnPZ3t0bMpFAXRB6LeBvXeQDiqc+MIFd/xntU8rBfDv4g8+Tyius/GASiSB2zq1STWfExIecQR3//FQ3QYoEfCusHkIrJ8naTWUbMO1DN8vR+LUPLvYUzoP5c1QgC3AJB5zcgrksFizcsncId/s10RZ1kFZOMc87Ih61GmzxkgSKM0Eu5OQV3+XPb1bHgOtrEHZn0ty/4/s9hYE4wTAEBK3KwYPnYIjCxeWrcOLTNgIh5EJrus8B8eeVt7jgNcBvVn/vnijoym4VLFdxR41Dzb5TX9qgFiKdAWwsQCxnMHwigv6zLFldEAC7LLnTOXVC0YKhtZQyUhXZtzktv+YP15R2jqnEH6+E6rKHX8UES3JVdeRX0w1mFnwQMsnRfHm76xOPUCSZT8P8trVw3Le9aU5CSW7WNsEJLl1usuJ/QZUxHEHbxVFbtMM8viZF9+u0KEUsOEF9zFjq3/lvHgvx/vq5/+Euacw1PpNZSt73D3X+o4nQ0RLntK845b0X96/qPv0NDw/SV5zOqyfkkiE+sF4tWEPb4+usmP1gvI9Lr9vzJ4hV9YLyPS6/b47hSr+sdVVlRIoUcQmn0Aef6x4spiHrUabPGLf8X6L7O6Dd4Pps6QRFvrALXmPyqkg9gZOH/s++Ru94p/Sf2j8TuC35Lt5lh/8ITx/+EJ4//CCh/pd/2K0v/q3/h8PIP/ThdQ6Tebjn+5MhpcHqvtk1TU7d8qRgmX/e/7Pvdt8Dl/vkr7R+J3Bb8l28nUgXrNZrNWexB/rQ+XrZjDwPjBIrjEdxi+CnCfxKv/jAVAPq0+TvjF8THA2fE7j6L/4n70MOoqyb3/kvJ8Qr5ankz0lLLaeB71Lo6vzFr/s++Ru+By/3yV9o/E7gt+S7eZJ/8ITZ/4QRxasgTvv+f0/e8Jw9jQLxFfeh8StmT98Ux8Fv2pp4pbBIFh3bGPOKffwzehrp/6nfmvpLz/5K7k4rzlcX52grlz/4jqonvNjvR9i/+vVH89AxTJjpat38Rpwmf/whwu3EDaeFK/oX2AcTot8TotgEZ27ITL2AI4jJYyWF/CQvWYERcWjgu/104F8c4nlzpYIQxSWNv/DN0cR8Xj2FomTeF90QfqmTZxU2yXxByAkrkA4dh9/e7RJa/1xGGBCAOvukH8NO57357/uvXen8iOpiwVpXU0jf7RBzd/+MfGBjGH77T+k/q5vzH11hxNWH2cVMjRjwBEfoS5P/xt1G/7YW2y13iHXGhr0FcYpogN8zrQB4JAyIsx+Tgt3OOwXsfUiBfZEH6pp2IOQGny8Zvxj3crMRpIne3gSYCn0SjORa72xlwsgtHfznqmz9gPn7/dd8EvyI3lRA07VTSFXtGioNo70QKnd1RB2DDOx93cS/WSupkFTAuQ0dzuOzP2MwbheBGfiH9QfQ+QcaKWQaekRUOCWWe2TVuanCDNWJgG8MuMWpVD9hFbEgp3/J+cIoMVAt/h0fw6P4cAkOj5wMLsIk92JX16/uvXc98dN5iwVm08tRV6/Jzd/+Mf6iBU6p/S/uXv0n9XN+Y+um2XueeC5R9voo89NovAREO2wZmQXitTh9SIeOjjJwrEwhZXzXZgDs6IOTP2AVxvtp//Q9snkKHWr4xB+qZNnFTbHuUXOzxgiNOIjTiI04CdLVl/hKRLR4yibJ1T3vwxTGvnv3ObTTvHTeYsFZtPLUVevyTXf/ibMRAqdLNb37Y7+hfS5fNPJOZqFTu6ogMDG5FbwLHfYMMAPVuVFiG1YKU1RVHjizvSqIOtEl0u9jwdvqfZB1EDqIHUQGQUQLv8w9OVfKsfn82BTRgxGz/x8dUX/65UKE9mT2n5Mym5O3WTu9vdtm1c9r+J3E6bBu1tHHNyeDJKvVhg4v6XOnI/WUnyd6z72j+Ha1WFW3xgL7vcPAJvf6wXhSRn/Kv7EnmOvjHjx9L1df22Fnfk5V/LbVZ+Z3v/5ncnbA+Cwf5b5O+Gvn/vpR995ajC6Wo9+z5OYYUyIsBpTv8wQVJlxkPGeOy+DL/+e4NNgyKXtC3z7PV4Kf0ef/tyyf7r/Lizond3+WrauZ/1+ppwuC2LtxVf/u6kPrT1/+EL9dt4/+b5WXjL+eOPjJXQyLE9k3/vX96YPM6RHdmb/6g5E4Yf3ydJ2C6/aaz2ZfsEXt/wj3+ylF8cECbnsz/+gPHx81Pr9PLnEk/PP+idd/T0+riu0d2KEwmFjoxf9//0uY5bf9gFOX0JI5XCOz4rXFn9Y86lpL+MT/+9pBN//nMUPSiMFf5+PPtx1QsfBq19O2pcX/nh02IJ29AHyd8wE2b3idxx6TJqfDJNe9cvum56XOvWta32AeGvfxOH9akj6O1Dqr7eESj56Ssqp6JjlUrO47bPkfKvZ2Bo3P+qHEVoCP/ghads+DWLiTXP7sz2FfDq2bfM7yq+iL95jhIo+3lxS3iY4jqr/8neP8vxX/mj7LViIwvB//Czgs//yx9//1WTrn2NbM4xv7o4f46wlwXb3nl/yCuZKk9Lma6gV14X7nfd3fE7nhSd56xk1XaP2tib8cEBuii/VN4JL1+GPdRdLnT2n0E/xzvZmdRK6Ff7X6eXJ0/jHE/4q/5rkOO+xze0P/DXx7Inw0kJ5Eb/+LTeJ3P+G8F4rBmOWZknP/uXftv3z7JTM7326/Ifib/qgXff5c3dFfeuz1e1EfoxPYOA7DaLOdPazgr7gXRQ6iFDbjcYzEIKzYmkvMVOHYdRA6iB1EDCKH0Vnt///1toS9ogufnyvj0nUP/049v/CwWa/G2f98512469ieQ/3Hw4HC3QaufMXZo3Eq2vTXidnZ+bmfsyg3fS4bmD0V+hzw13oINhc75V/CLqrgNX9keYBWv591U6R5VfcG8VfnxT8ivl0T8uElc27oCaP0tw9k/Z0Lh+ZjfMa8ANC+q/lhXj2sMDGbxB+UUb/96GyIxqKInEv/V21MNuZ3yK+rnE7hyqlYx2kel1+4DzXcPVP/DX2jhN9apKvDBnyT1Wj3X7ScTLKIW8t99sfgzGDwWXHHX/JHaRnsFwci+hUyWzEnQf+HIi93EgV8Jz52v1cm+P9M/NpSHn5h4mPFTbypq+zGvQ9KBqaw+6/jCqjNvcYT8M/np8NNI1ccBKu17/00/4fB7yaAP7gOCSBn+Vtpk13Xv8OW/bmlpQIyb7Jt+9VF8MHLFe7SGXcy3vGX1cV1cQ9rmM/8GX9eMAPesPxARf+TD05A/9qpeM8gx+MnVuv/jQiJHueZ7Cz3rsDwXLlv8YvGX79vcL3/EJf+Hd3u766pMu56ebOiBtfIjmp82wfeMvtHDsA5LwZBfajwWK+CemYw7R+pzubbvwXL5GymlxfkDP8Pf5OdzOuKjvylZL97X/Zsam1lqz/daiPfOdS6NEGLdEU4z/s75lI3CJX8t+uakD2pfO0tSPpQU/qA+7fX/7muAU4OXufT78ALNsM6Xv/P+vhe6OJ3N5e//5Ax7b4nZvg++bj8dvgt+jGOcMJbknV/8tsuPD44P/ZtH/dabpQCJ7yy4Wt9B+RkOReW8Peh8x0jmPsSjcUBfPrN+1+bV9+VvYX29/vX8leJkNPTjB53N/r3v7k6y2YCLqYPMRc3Bnb/5WlEt9ym/PZsNdrf/DxCpMel5+hnKtuH/4zdED/tcPabXihD8fm7fgnG1A32j9133kALSNsv98UjuZ4571yoz9fdRAYit97LD2/E7iVYnxOHKrw1spwRF/YB33M+IKdzlrlY9pvTEewDtH30uv0rH/KP/+VqZb7Da8eiruXoKk/6x//oZDAV9iC9Db2Mm6/7uoiR8BdeVGz+DNzl5fp2/3wYncIITVlGfj+TvUfpcN9vArj4fqrvsA7/+TvE5CVdkm068MTo4XP3sHE4PO9/Gxu//3euRhun4EPOni/5qHXLMfWrbcow5S90BQP5lChnqlIvE7lxZtsVoMtDurnw18nd/DCzLPu/433Rt2Tf/aufE3NHr0TB1xxbhjkGX8hH/Wf//Fh2GrNsP572lha0KqTfgvGvX8KV+QPYB0uG6ED3Yn1dueht9Db2XMzQT/iGtBndfJ9XOO9604/8/dRyOniS9Jnn/zO8f5q0X/KCBVMxoejF1v0jsSsI6ieU4Xlsuo3S54a0W/krfLabz0PK5O8J5lOsXib4s6S+GvmdLzv+wAgYr9LnBrzOlyd7/H37Uu0RjFVGO7Eyn3ThsRoFhuGNfPKVNHNPzElFv7i8rVQVVECOe4hO727HkoTQ7igyOqVvFwJnyHxHWaHqfFrCim/1/rS5cNxG9qo3z0XCf8Jsa93x8jl/kZy7wGhAh10il4dvJvTOod9q2to9qAFe0zb9+oI+5XpqlchYt+l3asgBjpaj2Ab2WODHXqcPnaP3/9LmJ02DdrfHnlOmFYhSL3aHlQrpdpnfoigS9+Tbz/4m6T6roZrVitWY7R+6xLYB4azu9s1bYa9kJ4lpofX+/jH3Nyd8S1sMhcgQnlpPLu0UeCC4mOLd4kH+lt/0YL3vW+KmKW3FAT/jF39KpGXLDBJAu317nXf/H+4XgmDe+/Hoh228WgKM6zr4ncbEFwDuZ3wv13h52dJVf5qHXCEdcpHvwn6cq+hUjE2EXkVr8Of/yrl8nVxbl6HzAkvzE7uKoc6/5/+znv3SPjYDkzbJ3q51DnHPxaPLfUb9U1HbHl53Og17M//lI5UNjfP7v+nUoazsf+OsL9WczvSvvh2b0tRA2wjyKC/Uqv/1c6uKh9Lebq4pH/UaRt6dGPXc+4IQzfevF/EMMydPn/RA2vekD/lo/+ufTPbYNu+TGiT4NAWb+5/8rqzQ+spJF5Bi/e+Pq5xOmcICF4cvdvt77IVV15NUSPVX03uj/hFDuQOStarPvXs4IOLq8EqbQhkhsT47fN2i/FSsf1i8WuoZn7Caa6ARgyccYzSAylkC/QU8VscAkT/A9bsUqhLmhs6DaWFmXXIKAaBdsrUWsUAkmL7K/yTTZuy82fy2Gca4iuSSYRuv6V3NnJ3WZ2qYr4g/d/2AO+TvGQx9xSR8+Y/O++OCguyF3x1iSbKYIMQBtU37ZcKLJZbXS0gq8VCyAcHVVrBaAD6GnSEiCxiH9jYgk2YUThHkQXZGSCGYdcN0TrHK4IUV1VkOXt4/Myn4MPkqo6NvYIwZOOMZpE8NbSAUWp6qNt8/PMrdLnEunFbEpjTHWU/1f7+NNZGm/ODD7J2gNCRXF+FoCkOV3uAADaFrzIEpOvMc/bRzFV5UauBvymDMI7h5pYAZGNKwaKuEQ1+jS7Dz7c6cHZMXShAP4aYM2Wgm05GLeMw+suXcCZwTOCZwEFekhUhExpjrKf6wZNzr/Jmx3ekhfGdSzaz6USer1TL8Me6Paeh/33lveUUsCvSO03Kl/coz4o93+2YOnk7zO6Sj9flWFVwXb3I/HWe4xXBrtcj/VUdCgu9F77l+fYMhAGx6RD3Xo/naonO1ROdl9eSPfc82H6Dfj1/HunjAtPgV4MLeUiI9mKlXjSLH1qv9zl46FBS0+gbESsfZyJcRB6zQN9H8fy8tnl5axGxznVFgiLJhDIdZ6rLms4yqqkTdsBHI8RZHGc642j5/91p7vhbuJ4k4njx8LjT9tASvTokrH96vrTseedoqIPW8Fp2UqXvTWxby7Hge98erhzgwCkYijYgAafkW48KBQBnUh0KQii6GvAQOnysxuY7U+7osxGBUMk8ct5wKQYIuwNpjbbunOppwPx+p8LDohuuCVoOg6nU7vGJbyYFhxyiqf2IS7a5ps1YBmUq6g38h/N39vJVHbzFNrinow6KifDe3nRDqd3jEbrouhdtcp3Clf79K+wDfxl/E6LYGRo5f/LnkHj3l1gDUCCkgW/33yCLr9tCqffZcKoAZADoB/sSC+j8OwAYeD3rQUXcVodfbJq3rp+GKOjjO+nR1dFlRSy4+0adMvOEf2C3RUwiNaFepW/IJs58h/N39vJVHbzFNrinow6KifDe3nRIGgfgNA/AaEKZotj4eT2lfcOngIUJWVZpvNHeoBeYgOGVcUa+QU6tEQ8XegSGT7Lp52/vlXrs0goKkjFbK6MljJY7og641GA4Smsg9zc1UsEtxCmR6WfAqdW//0eNk2h4E6skiP2Pz/1/G5f1NjsoHXUtc5aL3BOdaNiY/R565+mjMDCOvpYeftmZ3RoDz/rX3/Ej/w0MANr5XT34QB71bVfpcx/oW630PN9TjGcSp2luqelRQ8gPbOwPnMe6/sA7AOlN6q/XZbYgW77kubW01fpnJey4ZQKnW8/NeFxM02tuzO91kh0xkfXJxw8E+3ZtkgSv6NbvJys5UP8w25SCt8Hx/m2+KGonsA8wOXf0VJN38f5nVWfMejEszuZcvZ4/3P+Ki5Cff4huvk+0fmdnbzci31Ik2lTM6KJYS3AQyXvGR0N8Kq3GXN0+aHwwjpyGoh8FMlRoQ0y/oL4yg3z29pbec0ObA3f6FSEgSh0BiLt0bvX+9VTUDf+9fJCu0PToewD2Yw/GuRi/P/VLIyue0r4xHcETpT8T6GGbGsrzMrXSV2fvbX39611T7l/cuq0N4mANbeS0FIv9Bq9ht5B6wXGuXYZDPNg9g6XN1fozv5DzJ+DXdYIFQHeTumbr5flhOev/R558x9euTtO+JXgqHvcMLdfaEeGRU/MFPaH+rH8kadaDlAuZGsGS7L4/KD6lkCfCwOTdNdcsBlyCz1T/xEF/a6HHKMdgH8//nE/5/9jpPVzo2fnrqJp8+DXshJ6XGp7Md+Gd9CB/3to/H+7iHouUOb+q2f7e/kqdw4f9FsrvMuj/6ZV7MHRCjz30tXMiRB/9LOfhyfZCbD4OXd/8w0zq0Yczm7OVu9ADlpkf6XPQYvP4Qehj9kafbpyFqjzO5LkeP+xPL6xjSd6QzYrPulPVbPTv5cnYgH/wNn1d7e/qmdLmJavrEp0lQpeDtrQKNoSzhFhCLgsvfvVZbfERf7bG/DYnldCeadeHB+j3Ec/MFAjt/3qnknDq3+478/Bd/J3YLB+ah1SM1wIeobGxSdcPAfqOFzc89nb4bXLdslU0tNZn/3RXaCpnw+EM/75DB5yEKeui55ysb7r3j7PzdctJ36C9zViypjhGasn2sXE7ibV/16p1jiE97/5NK5O9Q75LPCkZ2jZl/02yNw6NnP+jBwR/3wTHFXA/wwaXZ/+V9iAGEp4+GcqD+5V2OqTP/8klHrpPxRb9lac4AGF6XFziWaMd49h7B0NbwGWi6ESQeZgP6mfXE5j5b1F7e/g14YWtBaw7l/pHICkrxJ7w8sWf+f8OAu9eGkAKqT6fRm/+rnMgef7e/HW8sO57c2z0Mir7/gbgftv8xGFuw2c19mc/166YNP9Gt3k6vKbrcv5JgntZM/FINOcffuimkfwuIFUuJsGJyx5QJ/+EOn8F9Lm6xt6XMeOx1G7vE70eS2iHe+6he3f0uaU4fEk1VSHHO74yZ8gLDBgW4C3AJoXvigDJi58bXKgvzyttIjDk0Ff91+P2H/EUsx//ag1+JMmETT9j0Hn/Ly71Wtridwjn0G3WjtfrA4XM7+sAiGXf5D/bV9dUDBfP5iRB0sbHoaEBrYscRFDxOuluqm/+ZF+s+qy4ixKSJSvPDfTCZgn0f1+AejQHmG2KsnJfzCNBEh9MKiRwK4nb0kWd+bpw3Z5fxWtA0FAdS5xT8/Sle16ODJbjJQfnLe9hb6FMnO89anp5GBKgtO/Jvo7r+v0xvhhd3mNTvjcxWO5Mweub/9Hl3a2rBo59z+Z2/x/uW/Zj6B8zbxMdf/Pel979pP8g3VpN6lUUYJmgBtXEcgOmV0yumWfQ+Dd5maNr/abZbEMSoRAPLlx1uGW/nO7afLfVUk5mXjtS2/7JOvL6c/uv4nc/+CI8/+C31/uf/8mo1tiPBNff+s79LnDk+rnGUrC641Ubyr+gHYB3X9ExX7CYAfxD8eGX8sZ+tLnQF9OjwaHG/1NTef58idbo+uk34na3wNCP8RAeYX517qE5hR3Hrz5lhVWvv9RBhRvXj4v9v8nfMTEgzfDVvB25mesGucnpXh66R2PEq5uLiO0bIsSp17ML51cSNuWnm92x39fOZxMPk1TkCr57pC4TL2v7dj/8DN5Os7Xm0tsEuQA+U/1sWvGmTXP2fPBiRXu/uuqzb9ENXTo4LQkVCRfSMKmvuN7cnRo/wTVeOwls2m/nCHL5t7q6c7JOrsEv/+l9HJvkf/M4LSrxdqVAOP/+l8jvpko6PxuEi+Sev1jnYYeat7X4+rmUivo8br7/sA7X74+dVC+2Nsurn1GmXj3ezY1Vrmhn4HE7lzk70uX+OWpaeev3l9KE+x+PprQae6EO6UA5ko77akH2sjxOXsdzSUWd1Wz878nd/EcgHsW30PS68Ze7Q5aeSH/yf7LWeWhYzfwG6YW3Fm+yI2Ojd/z8GTvGwPoYYvpjIrxi9iQ/R87uzO1CB6aSZ/sA5FjEMvlA8X5pQn+3xOl7rqfymb2MP1c3QA3Cp04bvSnX/icRz15E0EVZoLhjs+Ouc/z8AdHy7xHeMnHc/bRIBZdcoE0L/oLnc1+yuQw4vk9f/5Az/xO33dPdf3dRDQ33XfW0iv5j2Xccw/0oGpv4o9FiSxTIxq/2Orf/kxStTypJixG2e8CG5Fx5DN6Pk8nUtGqdg+T3An8nb5M4vxUIj5uOsWqC88m3iPg+2g7dV2mPZ2azfyVYCqu6B8b0d0LDYvp6wwBza+/nfn0/64Zro49QVv8XK6Bm7EZYR/8am02OxwfYM9DRPn/OvjSBh5EejOdKtPacfT+OKkX0eypXZ7FaLRRBCae6aRI/uwXUoLzEuOUZgdsnPdjlskia+cUg0fjwMQ9ZwUAFq/xgHel4tL//wy+34ZGaz6ufExwW+mwaORadjjP0bq0VX1fFKUUn8aznnHrchZf9oviT+6/vXUOZQS3/5E2Oyfry6elvCr/6pUAEmPTdGDk1daftbP5nbR+wPXLIvur5pf/cT4mHgeNVU/8fKXsDq0E53PmPf8ctZfKJWtNvmKcQwONQ0axLJARb9mVTSF8Zrv8sc7APEPE5mHhb7YtrPNvhnC+hi/iV3SWPgmv2b8cU4biNXI8M5AdzC4pw3EauR2Pp6YcwIwcUQ+j4DcQc8tN+kyj1tRul8r8p53jqgXd1PE8Wl393UVSi+sCU0qOZDr7+ImSYlwS/9ux/+nMKHoFNIWDvXLnhv+nwAEjw9c01VFZcx1yCtyede99ieTvdcI3M6Vd+Jlnh9e59/iO8TeL1RfohhV5/yr6/TLFT93iVcfZ60ODv+GkO4KIDvLygPrz7JvbbhMJblAfXn2QCVpQ95zHM1coHzDiRLpZgHTYu97qIeNLRJN7RUL9z3/T82cW/0jwjN1auD/LHl2j+cx6XL/E7k10oKpI5Z+8a1QGqPX7CC57ZUf+R9KRUx293rUXzMMMJ/YKYPl35er5/yvdMSRy+PTBV8B3KIfGEmgc9x6d/XlU8t1mBTRnoqdWcMszSqo/J8I4Qq5gGMRn0oqRon8wJSDD/37bI0NUVA/NJQjlHcaFMk0VZOCp2Ji99tfj8AsWToJ1BJgC8Vg5Qfe5MG3iqvngoubXq+hsP3PjEH6+Dar56rTRQNJEA0kQDSRANI4zp5crpuOtfbiaoPyrHIhZjhEOuOttNKe5JfSJXhAAA=)](https://media.geeksforgeeks.org/wp-content/uploads/20241210131752166623/Python-Data-Types.webp)"
      ],
      "metadata": {
        "id": "vdTKvRKapQzq"
      }
    },
    {
      "cell_type": "code",
      "source": [
        "#Integer\n",
        "print(8)\n",
        "\n",
        "# 1*10^308\n",
        "print(1e309)"
      ],
      "metadata": {
        "colab": {
          "base_uri": "https://localhost:8080/"
        },
        "id": "VbjDx54Got3W",
        "outputId": "1e90aa3f-c778-40f0-a3cc-aa1d2940a4ce"
      },
      "execution_count": null,
      "outputs": [
        {
          "output_type": "stream",
          "name": "stdout",
          "text": [
            "8\n",
            "inf\n"
          ]
        }
      ]
    },
    {
      "cell_type": "code",
      "source": [
        "# Float/Decimal\n",
        "\n",
        "print(8.55)\n",
        "print(1.7e309)"
      ],
      "metadata": {
        "colab": {
          "base_uri": "https://localhost:8080/"
        },
        "id": "Km-sLfvApa01",
        "outputId": "9568ce84-3719-423e-ac61-97ae2c562db8"
      },
      "execution_count": null,
      "outputs": [
        {
          "output_type": "stream",
          "name": "stdout",
          "text": [
            "8.55\n",
            "inf\n"
          ]
        }
      ]
    },
    {
      "cell_type": "code",
      "source": [
        "# Boolean\n",
        "\n",
        "print(True)\n",
        "print(False)"
      ],
      "metadata": {
        "colab": {
          "base_uri": "https://localhost:8080/"
        },
        "id": "n7El632Hpf6i",
        "outputId": "24d4adc0-6e2d-4768-8f40-546db85ec879"
      },
      "execution_count": null,
      "outputs": [
        {
          "output_type": "stream",
          "name": "stdout",
          "text": [
            "True\n",
            "False\n"
          ]
        }
      ]
    },
    {
      "cell_type": "code",
      "source": [
        "# String\n",
        "\n",
        "print('Hello World')"
      ],
      "metadata": {
        "colab": {
          "base_uri": "https://localhost:8080/"
        },
        "id": "kd0rZeKlpjN_",
        "outputId": "2e4dc35b-f5bb-4f8c-8398-ad6bfd7dd16a"
      },
      "execution_count": null,
      "outputs": [
        {
          "output_type": "stream",
          "name": "stdout",
          "text": [
            "Hello World\n"
          ]
        }
      ]
    },
    {
      "cell_type": "code",
      "source": [
        "# Complex Number\n",
        "\n",
        "print(5+6j)\n"
      ],
      "metadata": {
        "colab": {
          "base_uri": "https://localhost:8080/"
        },
        "id": "2IwFblUvpmqS",
        "outputId": "9c711f2c-3579-4459-f83e-c273fdbcd571"
      },
      "execution_count": null,
      "outputs": [
        {
          "output_type": "stream",
          "name": "stdout",
          "text": [
            "(5+6j)\n"
          ]
        }
      ]
    },
    {
      "cell_type": "code",
      "source": [
        "# List\n",
        "\n",
        "# Empty list\n",
        "a = []\n",
        "\n",
        "# list with int values\n",
        "a = [1, 2, 3]\n",
        "print(a)\n",
        "\n",
        "# list with mixed values int and String\n",
        "b = [\"Geeks\", \"For\", \"Geeks\", 4, 5]\n",
        "print(b)"
      ],
      "metadata": {
        "colab": {
          "base_uri": "https://localhost:8080/"
        },
        "id": "MkWLDeG_pqJC",
        "outputId": "197e6773-fc35-4bfa-c4ac-6bdd11a18276"
      },
      "execution_count": null,
      "outputs": [
        {
          "output_type": "stream",
          "name": "stdout",
          "text": [
            "[1, 2, 3]\n",
            "['Geeks', 'For', 'Geeks', 4, 5]\n"
          ]
        }
      ]
    },
    {
      "cell_type": "code",
      "source": [
        "# Tuples\n",
        "\n",
        "tup = (1,2,3,4,5)\n",
        "print(tup)"
      ],
      "metadata": {
        "colab": {
          "base_uri": "https://localhost:8080/"
        },
        "id": "REIP5oYIptMX",
        "outputId": "efb957a2-e38e-4a0b-ee28-b629b38fc4f1"
      },
      "execution_count": null,
      "outputs": [
        {
          "output_type": "stream",
          "name": "stdout",
          "text": [
            "(1, 2, 3, 4, 5)\n"
          ]
        }
      ]
    },
    {
      "cell_type": "code",
      "source": [
        "# Set\n",
        "\n",
        "# initializing empty set\n",
        "s1 = set()\n",
        "\n",
        "s1 = set(\"GeeksForGeeks\")\n",
        "print(\"Set with the use of String: \", s1)\n",
        "\n",
        "s2 = set([\"Geeks\", \"For\", \"Geeks\"])\n",
        "print(\"Set with the use of List: \", s2)"
      ],
      "metadata": {
        "colab": {
          "base_uri": "https://localhost:8080/"
        },
        "id": "MQJOPg4VpvIC",
        "outputId": "59a3eda6-30cf-4273-efb4-ff8fbb964c62"
      },
      "execution_count": null,
      "outputs": [
        {
          "output_type": "stream",
          "name": "stdout",
          "text": [
            "Set with the use of String:  {'o', 'F', 's', 'e', 'r', 'k', 'G'}\n",
            "Set with the use of List:  {'Geeks', 'For'}\n"
          ]
        }
      ]
    },
    {
      "cell_type": "code",
      "source": [
        "# Dictionary\n",
        "\n",
        "# initialize empty dictionary\n",
        "d = {}\n",
        "\n",
        "d = {1: 'Geeks', 2: 'For', 3: 'Geeks'}\n",
        "print(d)\n",
        "\n",
        "# creating dictionary using dict() constructor\n",
        "d1 = dict({'name':'Aman',\n",
        "    'gender':'Male',\n",
        "    'weight':65})\n",
        "print(d1)\n"
      ],
      "metadata": {
        "colab": {
          "base_uri": "https://localhost:8080/"
        },
        "id": "9lajGVkapxVk",
        "outputId": "c520cc0d-1359-4a1a-c55c-5acb2ffe8eff"
      },
      "execution_count": null,
      "outputs": [
        {
          "output_type": "stream",
          "name": "stdout",
          "text": [
            "{1: 'Geeks', 2: 'For', 3: 'Geeks'}\n",
            "{'name': 'Aman', 'gender': 'Male', 'weight': 65}\n"
          ]
        }
      ]
    },
    {
      "cell_type": "code",
      "source": [
        "# type() - print data type of the data\n",
        "\n",
        "print(type(3.3))\n",
        "print(type(\"Hello\"))\n",
        "print(type((1,5,8,45)))"
      ],
      "metadata": {
        "colab": {
          "base_uri": "https://localhost:8080/"
        },
        "id": "yJlh8W7ksK-F",
        "outputId": "4f842ae6-1a14-47df-b586-44789dc421b8"
      },
      "execution_count": null,
      "outputs": [
        {
          "output_type": "stream",
          "name": "stdout",
          "text": [
            "<class 'float'>\n",
            "<class 'str'>\n",
            "<class 'tuple'>\n"
          ]
        }
      ]
    },
    {
      "cell_type": "markdown",
      "source": [
        "## Comments"
      ],
      "metadata": {
        "id": "cGR3YAQvy2RY"
      }
    },
    {
      "cell_type": "code",
      "source": [
        "# this is a single line comment\n",
        "\n",
        "print('Single-line comment : #')\n",
        "print('Multi-line comment : \"\"\"----\"\"\"')\n"
      ],
      "metadata": {
        "colab": {
          "base_uri": "https://localhost:8080/"
        },
        "id": "KqhgorZMy50z",
        "outputId": "612722d0-c204-4ce2-9b14-84cef019c75c"
      },
      "execution_count": null,
      "outputs": [
        {
          "output_type": "stream",
          "name": "stdout",
          "text": [
            "Single-line comment : #\n",
            "Multi-line comment : \"\"\"----\"\"\"\n"
          ]
        }
      ]
    },
    {
      "cell_type": "markdown",
      "source": [
        "# Variables"
      ],
      "metadata": {
        "id": "jkLHNCChspX4"
      }
    },
    {
      "cell_type": "code",
      "source": [
        "# Variables are used to store data that can be referenced and manipulated during program execution.\n",
        "# A variable is essentially a name that is assigned to a value.\n",
        "\n",
        "'''\n",
        "Rules for Naming Variables:\n",
        "\n",
        "1. Variable names can only contain letters, digits and underscores (_).\n",
        "2. A variable name cannot start with a digit.\n",
        "3. Variable names are case-sensitive (myVar and myvar are different).\n",
        "4. Avoid using Python keywords (e.g., if, else, for) as variable names.\n",
        "'''"
      ],
      "metadata": {
        "id": "n2v_Pun6ssfG"
      },
      "execution_count": null,
      "outputs": []
    },
    {
      "cell_type": "code",
      "source": [
        "name = 'Aman Singh Negi'\n",
        "print(name)"
      ],
      "metadata": {
        "colab": {
          "base_uri": "https://localhost:8080/"
        },
        "id": "9AlcGg69tvKy",
        "outputId": "b4ce8106-76d1-46de-887b-78fd67389d6b"
      },
      "execution_count": null,
      "outputs": [
        {
          "output_type": "stream",
          "name": "stdout",
          "text": [
            "Aman Singh Negi\n"
          ]
        }
      ]
    },
    {
      "cell_type": "code",
      "source": [
        "a = 7\n",
        "b = 24\n",
        "\n",
        "print(a+b)"
      ],
      "metadata": {
        "colab": {
          "base_uri": "https://localhost:8080/"
        },
        "id": "AYHVtnD4t0hD",
        "outputId": "66444ffc-b209-4604-e907-d3065ba88638"
      },
      "execution_count": null,
      "outputs": [
        {
          "output_type": "stream",
          "name": "stdout",
          "text": [
            "31\n"
          ]
        }
      ]
    },
    {
      "cell_type": "code",
      "source": [
        "# Dynamic Typing - you dont tell data type of var, interpreter automatically understands it.\n",
        "a = 3.5\n",
        "\n",
        "# Static Typing - you have to declare the data type of var\n",
        "# int a = 34\n"
      ],
      "metadata": {
        "id": "scs2F3OQt-RF"
      },
      "execution_count": null,
      "outputs": []
    },
    {
      "cell_type": "code",
      "source": [
        "# Dyanmic Binding -- in Python - if 'a' is declared int, then it store other data type also.\n",
        "\n",
        "a = 5\n",
        "print(a)\n",
        "\n",
        "a = 'aman'\n",
        "print(a)\n",
        "\n",
        "# Static Binding -- in C/C++ -- if 'a' is declared int, then thourhout program it will store int only\n",
        "\n",
        "# int a = 5\n"
      ],
      "metadata": {
        "colab": {
          "base_uri": "https://localhost:8080/"
        },
        "id": "PUzlXw0Xuimi",
        "outputId": "a734651f-efc2-4668-df6a-a56ef753ebc1"
      },
      "execution_count": null,
      "outputs": [
        {
          "output_type": "stream",
          "name": "stdout",
          "text": [
            "5\n",
            "aman\n"
          ]
        }
      ]
    },
    {
      "cell_type": "code",
      "source": [
        "# Stylish way of writing var\n",
        "\n",
        "a, b, c = 1, 2, 3\n",
        "print(a,b,c)\n",
        "\n",
        "# assigning same value to multiple variables\n",
        "\n",
        "a = b = c = 5\n",
        "print(a,b,c)"
      ],
      "metadata": {
        "colab": {
          "base_uri": "https://localhost:8080/"
        },
        "id": "EmoAfwdhvrM2",
        "outputId": "0e917a22-e086-4e2e-c20b-8d6db29052cc"
      },
      "execution_count": null,
      "outputs": [
        {
          "output_type": "stream",
          "name": "stdout",
          "text": [
            "1 2 3\n",
            "5 5 5\n"
          ]
        }
      ]
    },
    {
      "cell_type": "markdown",
      "source": [
        "# Keywords & Identifiers"
      ],
      "metadata": {
        "id": "UJ7DxXc-wWW3"
      }
    },
    {
      "cell_type": "code",
      "source": [
        "# Keywords are reserved words that have special meaning in Python.\n",
        "\n",
        "# You can’t use them as variable names, function names, or identifiers.\n",
        "\n",
        "# There are 32 Keywords in Python\n",
        "\n",
        "\n",
        "# printing all keywords at once using \"kwlist()\"\n",
        "import keyword\n",
        "\n",
        "print(\"The list of keywords is : \")\n",
        "print(keyword.kwlist)\n"
      ],
      "metadata": {
        "colab": {
          "base_uri": "https://localhost:8080/"
        },
        "id": "B5pimg5AwkyH",
        "outputId": "c9b9cffd-dd55-47b0-9628-9d96952e7c6b"
      },
      "execution_count": null,
      "outputs": [
        {
          "output_type": "stream",
          "name": "stdout",
          "text": [
            "The list of keywords is : \n",
            "['False', 'None', 'True', 'and', 'as', 'assert', 'async', 'await', 'break', 'class', 'continue', 'def', 'del', 'elif', 'else', 'except', 'finally', 'for', 'from', 'global', 'if', 'import', 'in', 'is', 'lambda', 'nonlocal', 'not', 'or', 'pass', 'raise', 'return', 'try', 'while', 'with', 'yield']\n"
          ]
        }
      ]
    },
    {
      "cell_type": "code",
      "source": [
        "# Identifiers\n",
        "\n",
        "# the name you give to anything you define in Python —like a variable, function, class, or module.\n",
        "# identifiers cannot be keywords\n",
        "\n",
        "# Valid identifiers\n",
        "_name = \"Aman\"\n",
        "student1 = \"Rahul\"\n",
        "totalMarks = 90\n",
        "user_name = \"Priya\"\n",
        "\n",
        "# Invalid identifiers\n",
        "1st_number = 5     # ❌ starts with a number\n",
        "my-name = \"Alex\"   # ❌ contains '-'\n",
        "for = 7            # ❌ 'for' is a keyword\n"
      ],
      "metadata": {
        "id": "Dz2jvX0h0NNt"
      },
      "execution_count": null,
      "outputs": []
    },
    {
      "cell_type": "markdown",
      "source": [
        "# User Input + Type Conversion"
      ],
      "metadata": {
        "id": "IZOR6Kev5YH9"
      }
    },
    {
      "cell_type": "code",
      "source": [
        "# User input means taking data from the user during program execution — like a name, age, or number.\n",
        "\n",
        "name = input(\"Enter your name: \")\n",
        "print(\"Hello,\", name, \"! Welcome!\")"
      ],
      "metadata": {
        "colab": {
          "base_uri": "https://localhost:8080/"
        },
        "id": "ctinmT-f5aDe",
        "outputId": "1ced32b6-db42-49c5-94f9-7999a52ab17a"
      },
      "execution_count": null,
      "outputs": [
        {
          "output_type": "stream",
          "name": "stdout",
          "text": [
            "Enter your name: Aman\n",
            "Hello, Aman ! Welcome!\n"
          ]
        }
      ]
    },
    {
      "cell_type": "code",
      "source": [
        "num1 = input(\"Enter the first number: \")\n",
        "num2 = input(\"Enter the second number: \")\n",
        "\n",
        "sum = num1 + num2    # the input is by default string type\n",
        "print(type(num1), type(num2))\n",
        "print(\"The sum of\", num1, \"and\", num2, \"is\", sum)\n"
      ],
      "metadata": {
        "colab": {
          "base_uri": "https://localhost:8080/"
        },
        "id": "3Eh8a_dS58lD",
        "outputId": "11b0d737-36c1-409a-d756-19c4ffcf8f05"
      },
      "execution_count": null,
      "outputs": [
        {
          "output_type": "stream",
          "name": "stdout",
          "text": [
            "Enter the first number: 54\n",
            "Enter the second number: 87\n",
            "The sum of 54 and 87 is 5487\n"
          ]
        }
      ]
    },
    {
      "cell_type": "code",
      "source": [
        "# multiple input\n",
        "\n",
        "x, y = input(\"Enter two numbers separated by space: \").split()\n",
        "print(\"You entered:\", x, \"and\", y)\n"
      ],
      "metadata": {
        "colab": {
          "base_uri": "https://localhost:8080/"
        },
        "id": "Ahswv-mr75OK",
        "outputId": "a00c5586-1dee-464e-de19-9c01cb2cd72a"
      },
      "execution_count": null,
      "outputs": [
        {
          "output_type": "stream",
          "name": "stdout",
          "text": [
            "Enter two numbers separated by space: 3 5\n",
            "You entered: 3 and 5\n"
          ]
        }
      ]
    },
    {
      "cell_type": "code",
      "source": [
        "# Type Conversion -- means changing the data type of a variable\n",
        "\n",
        "# Implicit vs Explicit\n",
        "# Implicit - Python automatically converts one data type to another when needed.\n",
        "# Explicit - You convert data types manually using built-in functions.\n",
        "\n"
      ],
      "metadata": {
        "id": "bcO4W4qM6m-Z"
      },
      "execution_count": null,
      "outputs": []
    },
    {
      "cell_type": "code",
      "source": [
        "# Implicit type conversion\n",
        "\n",
        "num_int = 5        # int\n",
        "num_float = 2.5    # float\n",
        "\n",
        "result = num_int + num_float\n",
        "print(result)       # 7.5\n",
        "print(type(result)) # <class 'float'>\n"
      ],
      "metadata": {
        "colab": {
          "base_uri": "https://localhost:8080/"
        },
        "id": "3r60PErZ66zn",
        "outputId": "4b288422-b133-440f-ccda-61b656406e1a"
      },
      "execution_count": null,
      "outputs": [
        {
          "output_type": "stream",
          "name": "stdout",
          "text": [
            "7.5\n",
            "<class 'float'>\n"
          ]
        }
      ]
    },
    {
      "cell_type": "code",
      "source": [
        "# Explicit Type Conversion\n",
        "\n",
        "num = \"10\"\n",
        "num = int(num)\n",
        "print(num + 5)\n",
        "\n",
        "\n",
        "pi = 3.14159\n",
        "text = str(pi)\n",
        "print(\"Value of pi is \" + text)\n",
        "\n",
        "\n",
        "# Not all conversions are valid:\n",
        "# 1. str to int\n",
        "# 2. str to float\n",
        "# 3. complex to int\n",
        "\n"
      ],
      "metadata": {
        "colab": {
          "base_uri": "https://localhost:8080/"
        },
        "id": "IYEHH1Ao8aa-",
        "outputId": "bb911efa-0fdc-4c4b-a01a-b5978e32156e"
      },
      "execution_count": null,
      "outputs": [
        {
          "output_type": "stream",
          "name": "stdout",
          "text": [
            "15\n",
            "Value of pi is 3.14159\n"
          ]
        }
      ]
    },
    {
      "cell_type": "markdown",
      "source": [
        "# Literals"
      ],
      "metadata": {
        "id": "D3X7zVjb9G4t"
      }
    },
    {
      "cell_type": "code",
      "source": [
        "# A literal is a fixed value in your code that is written exactly as it is.\n",
        "# It represents data directly — like numbers, text, or Boolean values — without computation.\n",
        "\n",
        "\n",
        "x = 10        # 10 is an integer literal\n",
        "name = \"Aman\" # \"Aman\" is a string literal\n",
        "pi = 3.14     # 3.14 is a float literal\n",
        "\n",
        "# None Literal\n",
        "m = None        # basically for declaration for future use\n",
        "print(m)\n",
        "\n",
        "print(\"/n\")\n",
        "# Number System\n",
        "\n",
        "a = 0b1010 #Binary Literals\n",
        "b = 100 #Decimal Literal\n",
        "c = 0o310 #Octal Literal\n",
        "d = 0x12c #Hexadecimal Literal\n",
        "\n",
        "print(a, b, c, d, sep=\"\\n\")\n",
        "\n"
      ],
      "metadata": {
        "colab": {
          "base_uri": "https://localhost:8080/"
        },
        "id": "wViYYDTo9LLU",
        "outputId": "f913c2b6-bc25-4866-bfe3-777ad70d8aec"
      },
      "execution_count": null,
      "outputs": [
        {
          "output_type": "stream",
          "name": "stdout",
          "text": [
            "None\n",
            "10\n",
            "100\n",
            "200\n",
            "300\n"
          ]
        }
      ]
    },
    {
      "cell_type": "code",
      "source": [
        "# Numeric Literals\n",
        "\n",
        "a = 100     # int literal\n",
        "b = 3.14    # float literal\n",
        "c = 1.5e2   # 1.5 * 10^2\n",
        "d = 1.5e-3  # 1.5 * 10^-3\n",
        "e = 2 + 3j  # complex literal\n",
        "\n",
        "print(a, b, c, d, e, sep =\"\\n\")\n",
        "\n",
        "print(e, e.real, e.imag)\n"
      ],
      "metadata": {
        "colab": {
          "base_uri": "https://localhost:8080/"
        },
        "id": "ccaIQcWb-q2A",
        "outputId": "3bd56e01-1b6b-471d-bae6-ab36dd030825"
      },
      "execution_count": null,
      "outputs": [
        {
          "output_type": "stream",
          "name": "stdout",
          "text": [
            "100\n",
            "3.14\n",
            "150.0\n",
            "0.0015\n",
            "(2+3j)\n",
            "(2+3j) 2.0 3.0\n"
          ]
        }
      ]
    },
    {
      "cell_type": "code",
      "source": [
        "# String Literals\n",
        "\n",
        "s1 = 'Hello'\n",
        "char = \"C\"\n",
        "s2 = \"Hi\"\n",
        "multi_line_str = \"\"\"This is\n",
        "a multi-line string\"\"\"\n",
        "unicode = u\"\\U0001f600\\U0001F606\\U0001F923\"\n",
        "raw_str = r\"raw \\n_string\"\n",
        "\n",
        "print(s1, char, s2, multi_line_str, unicode, raw_str, sep = \"\\n\")"
      ],
      "metadata": {
        "colab": {
          "base_uri": "https://localhost:8080/"
        },
        "id": "XysC5RRL-wVv",
        "outputId": "7c14aa11-0941-49b4-96ea-84fb779f5a5a"
      },
      "execution_count": null,
      "outputs": [
        {
          "output_type": "stream",
          "name": "stdout",
          "text": [
            "Hello\n",
            "C\n",
            "Hi\n",
            "This is\n",
            "a multi-line string\n",
            "😀😆🤣\n",
            "raw \\n_string\n"
          ]
        }
      ]
    },
    {
      "cell_type": "code",
      "source": [
        "# Boolean Literals\n",
        "\n",
        "a = True +4\n",
        "b = False + 10\n",
        "\n",
        "print(\"a: \", a)\n",
        "print(\"b: \", b)"
      ],
      "metadata": {
        "colab": {
          "base_uri": "https://localhost:8080/"
        },
        "id": "ZZdCio6N_iwC",
        "outputId": "5e0790fe-d8d7-43e4-a29e-24732e382286"
      },
      "execution_count": null,
      "outputs": [
        {
          "output_type": "stream",
          "name": "stdout",
          "text": [
            "a:  5\n",
            "b:  10\n"
          ]
        }
      ]
    }
  ]
}