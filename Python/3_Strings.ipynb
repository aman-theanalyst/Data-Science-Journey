{
  "nbformat": 4,
  "nbformat_minor": 0,
  "metadata": {
    "colab": {
      "provenance": [],
      "authorship_tag": "ABX9TyMaSP2MpdPE4YpJlFoX8LdV",
      "include_colab_link": true
    },
    "kernelspec": {
      "name": "python3",
      "display_name": "Python 3"
    },
    "language_info": {
      "name": "python"
    }
  },
  "cells": [
    {
      "cell_type": "markdown",
      "metadata": {
        "id": "view-in-github",
        "colab_type": "text"
      },
      "source": [
        "<a href=\"https://colab.research.google.com/github/aman-theanalyst/Data-Science-Journey/blob/main/Python/3_Strings.ipynb\" target=\"_parent\"><img src=\"https://colab.research.google.com/assets/colab-badge.svg\" alt=\"Open In Colab\"/></a>"
      ]
    },
    {
      "cell_type": "markdown",
      "source": [
        "***Strings***\n",
        "\n",
        "A String is a sequence of characters enclosed in quotes.    \n",
        "It can include letters, numbers, symbols or spaces."
      ],
      "metadata": {
        "id": "Ds6MDcKl7psk"
      }
    },
    {
      "cell_type": "markdown",
      "source": [
        "# Creating Strings"
      ],
      "metadata": {
        "id": "DzQd2Wxl75sK"
      }
    },
    {
      "cell_type": "code",
      "execution_count": 2,
      "metadata": {
        "colab": {
          "base_uri": "https://localhost:8080/"
        },
        "id": "vzvPr_RFci3e",
        "outputId": "dba9d388-fda5-4456-8393-e7af7076cfa9"
      },
      "outputs": [
        {
          "output_type": "stream",
          "name": "stdout",
          "text": [
            "Hello\n",
            "I am Learning\n",
            "Python String\n"
          ]
        }
      ],
      "source": [
        "str1 = 'Hello'\n",
        "str1 = \"Hello\"\n",
        "\n",
        "# Multi line String\n",
        "str2 = '''I am Learning\n",
        "Python String'''\n",
        "str2 = \"\"\"I am Learning\n",
        "Python String\"\"\"\n",
        "\n",
        "print(str1)\n",
        "print(str2)"
      ]
    },
    {
      "cell_type": "markdown",
      "source": [
        "# Accessing Substring"
      ],
      "metadata": {
        "id": "J6qyUV3F8jpk"
      }
    },
    {
      "cell_type": "code",
      "source": [
        "# +ve Indexing\n",
        "\n",
        "str1 = \"Hello World\"\n",
        "\n",
        "print(str1[2])\n",
        "print(str1[8])\n",
        "\n",
        "# Accessing an index out of range will cause an IndexError"
      ],
      "metadata": {
        "colab": {
          "base_uri": "https://localhost:8080/"
        },
        "id": "O3pCpBL78oNE",
        "outputId": "83497b3a-429b-476e-e6f2-f433ecca24b3"
      },
      "execution_count": 3,
      "outputs": [
        {
          "output_type": "stream",
          "name": "stdout",
          "text": [
            "l\n",
            "r\n"
          ]
        }
      ]
    },
    {
      "cell_type": "code",
      "source": [
        "# ve Indexing\n",
        "\n",
        "str1 = \"Hello World\"\n",
        "\n",
        "print(str1[-1])\n",
        "print(str1[-5])\n"
      ],
      "metadata": {
        "colab": {
          "base_uri": "https://localhost:8080/"
        },
        "id": "WufYLFpQ9ADz",
        "outputId": "defc5ccf-22ae-4f7f-b89b-5f1b9d9a0ce6"
      },
      "execution_count": 6,
      "outputs": [
        {
          "output_type": "stream",
          "name": "stdout",
          "text": [
            "d\n",
            "W\n"
          ]
        }
      ]
    },
    {
      "cell_type": "code",
      "source": [
        "# Slicing : extracting a part (substring) of a string using the slice operator [:]\n",
        "# string[start:end:step]\n",
        "\n",
        "\n",
        "str1 = \"Hello World\"\n",
        "\n",
        "print(str1[1:4])    # characters from index 1 to 3 [4 is excluded]\n",
        "print(str1[:3])     # from start to index 2\n",
        "print(str1[3:])     # from index 3 to end\n",
        "print(str1[0:len(str1):2])  # every 2nd character\n",
        "\n",
        "print('\\n')\n",
        "\n",
        "print(str1[-1])      #  last character\n",
        "print(str1[-5:-1])\n",
        "print(str1[-5:])     #  -5 to start(-1) , you cannot write -1 as it will not print d\n",
        "print(str1[:-6])     #  end to -6\n",
        "print(str1[::-1])    #  reversed string\n"
      ],
      "metadata": {
        "colab": {
          "base_uri": "https://localhost:8080/"
        },
        "id": "qXFH3QlD9C_V",
        "outputId": "5785b682-272d-4e15-e5bd-f4e50e300d52"
      },
      "execution_count": 15,
      "outputs": [
        {
          "output_type": "stream",
          "name": "stdout",
          "text": [
            "ell\n",
            "Hel\n",
            "lo World\n",
            "HloWrd\n",
            "\n",
            "\n",
            "d\n",
            "Worl\n",
            "World\n",
            "Hello\n",
            "dlroW olleH\n"
          ]
        }
      ]
    },
    {
      "cell_type": "markdown",
      "source": [
        "# Editing & Deleting the String"
      ],
      "metadata": {
        "id": "IK3ipDp0-1wG"
      }
    },
    {
      "cell_type": "code",
      "source": [
        "# String Immutability : means that they cannot be changed after they are created.\n",
        "\n",
        "s = \"Hello World!!\"\n",
        "# s[0] = 'H'       cannot be done as string are immutable\n",
        "\n",
        "# you can edit a string using slicing, concatination,etc methods\n",
        "s = \"G\" + s[1:]\n",
        "print(s)"
      ],
      "metadata": {
        "colab": {
          "base_uri": "https://localhost:8080/"
        },
        "id": "gWAgNhiA-6U-",
        "outputId": "f1f65add-7927-4f92-a6f7-981c92d41985"
      },
      "execution_count": 19,
      "outputs": [
        {
          "output_type": "stream",
          "name": "stdout",
          "text": [
            "Gello World!!\n"
          ]
        }
      ]
    },
    {
      "cell_type": "code",
      "source": [
        "# Deleting a String\n",
        "\n",
        "str1 = \"Hello World\"\n",
        "print(str1)\n",
        "del str1\n",
        "\n",
        "# print(str1) -- will give error as string is deleted\n"
      ],
      "metadata": {
        "colab": {
          "base_uri": "https://localhost:8080/"
        },
        "id": "tRPwFhnb_4F2",
        "outputId": "840f49cb-44c1-4793-8d06-065a2eb5e93c"
      },
      "execution_count": 21,
      "outputs": [
        {
          "output_type": "stream",
          "name": "stdout",
          "text": [
            "Hello World\n"
          ]
        }
      ]
    },
    {
      "cell_type": "code",
      "source": [
        "# Deleting a part of string\n",
        "# You can only delete a full string, not a part of string - gives error\n",
        "\n",
        "s = 'hello world'\n",
        "del s[-1:-5:2]\n",
        "print(s)"
      ],
      "metadata": {
        "colab": {
          "base_uri": "https://localhost:8080/",
          "height": 193
        },
        "id": "n8t6_pg8AoRI",
        "outputId": "c33a1ac9-ed9a-4946-f986-033c6bb7bd3d"
      },
      "execution_count": 22,
      "outputs": [
        {
          "output_type": "error",
          "ename": "TypeError",
          "evalue": "'str' object does not support item deletion",
          "traceback": [
            "\u001b[0;31m---------------------------------------------------------------------------\u001b[0m",
            "\u001b[0;31mTypeError\u001b[0m                                 Traceback (most recent call last)",
            "\u001b[0;32m/tmp/ipython-input-41962157.py\u001b[0m in \u001b[0;36m<cell line: 0>\u001b[0;34m()\u001b[0m\n\u001b[1;32m      3\u001b[0m \u001b[0;34m\u001b[0m\u001b[0m\n\u001b[1;32m      4\u001b[0m \u001b[0ms\u001b[0m \u001b[0;34m=\u001b[0m \u001b[0;34m'hello world'\u001b[0m\u001b[0;34m\u001b[0m\u001b[0;34m\u001b[0m\u001b[0m\n\u001b[0;32m----> 5\u001b[0;31m \u001b[0;32mdel\u001b[0m \u001b[0ms\u001b[0m\u001b[0;34m[\u001b[0m\u001b[0;34m-\u001b[0m\u001b[0;36m1\u001b[0m\u001b[0;34m:\u001b[0m\u001b[0;34m-\u001b[0m\u001b[0;36m5\u001b[0m\u001b[0;34m:\u001b[0m\u001b[0;36m2\u001b[0m\u001b[0;34m]\u001b[0m\u001b[0;34m\u001b[0m\u001b[0;34m\u001b[0m\u001b[0m\n\u001b[0m\u001b[1;32m      6\u001b[0m \u001b[0mprint\u001b[0m\u001b[0;34m(\u001b[0m\u001b[0ms\u001b[0m\u001b[0;34m)\u001b[0m\u001b[0;34m\u001b[0m\u001b[0;34m\u001b[0m\u001b[0m\n",
            "\u001b[0;31mTypeError\u001b[0m: 'str' object does not support item deletion"
          ]
        }
      ]
    },
    {
      "cell_type": "markdown",
      "source": [
        "# Operation on Strings\n",
        "\n",
        "\n",
        "\n",
        "*   Arithmetic Operators\n",
        "*   Relational Operators\n",
        "*   Logical Operators\n",
        "*   Loops\n",
        "*   Membership operators"
      ],
      "metadata": {
        "id": "o3TBRnioA9jF"
      }
    },
    {
      "cell_type": "code",
      "source": [
        "# Arithmetic Operators\n",
        "\n",
        "a = \"Hello\"\n",
        "b = \"World\"\n",
        "\n",
        "# Addition → Concatenation\n",
        "print(a + \" \" + b)     # Output: Hello World\n",
        "\n",
        "# Multiplication → Repetition\n",
        "print(a * 3)            # Output: HelloHelloHello\n"
      ],
      "metadata": {
        "colab": {
          "base_uri": "https://localhost:8080/"
        },
        "id": "cpUGWFDUBAkH",
        "outputId": "a4a1bbe7-dce4-4df5-8b77-f64b0dfe330a"
      },
      "execution_count": 23,
      "outputs": [
        {
          "output_type": "stream",
          "name": "stdout",
          "text": [
            "Hello World\n",
            "HelloHelloHello\n"
          ]
        }
      ]
    },
    {
      "cell_type": "code",
      "source": [
        "# Relational Operators\n",
        "\n",
        "x = \"apple\"\n",
        "y = \"banana\"\n",
        "\n",
        "print(x == y)   # False\n",
        "print(x != y)   # True\n",
        "print(x > y)    # False  (because 'a' < 'b')\n",
        "print(x < y)    # True\n",
        "\n",
        "print('\\n')\n",
        "\n",
        "print('delhi' == 'mumbai')\n",
        "print('mumbai' != 'pune')\n",
        "print('pune' < 'surat')    # lexographically\n",
        "print('Pune' > 'pune')     # hexcode (P=85 and p=112)\n",
        "print('surat' < 'ahmedabad')"
      ],
      "metadata": {
        "colab": {
          "base_uri": "https://localhost:8080/"
        },
        "id": "kt25HzI_Dxg7",
        "outputId": "781f8c6a-99fc-45f0-a09c-7f8c32e4cf0a"
      },
      "execution_count": 30,
      "outputs": [
        {
          "output_type": "stream",
          "name": "stdout",
          "text": [
            "False\n",
            "True\n",
            "False\n",
            "True\n",
            "\n",
            "\n",
            "False\n",
            "True\n",
            "True\n",
            "False\n",
            "False\n"
          ]
        }
      ]
    },
    {
      "cell_type": "code",
      "source": [
        "# Logical Operators\n",
        "\n",
        "a = \"Python\"\n",
        "b = \"\"\n",
        "\n",
        "print(bool(a))  # True  (non-empty string)\n",
        "print(bool(b))  # False (empty string)\n",
        "\n",
        "# Logical operations\n",
        "print(a and b)  # Returns b (since a is True)\n",
        "print(a or b)   # Returns a (since a is True)\n",
        "print(not a)    # False\n"
      ],
      "metadata": {
        "colab": {
          "base_uri": "https://localhost:8080/"
        },
        "id": "mh_8_R1yEH6_",
        "outputId": "3a5e4771-7ccb-4c97-bc22-81cd44908580"
      },
      "execution_count": 31,
      "outputs": [
        {
          "output_type": "stream",
          "name": "stdout",
          "text": [
            "True\n",
            "False\n",
            "\n",
            "Python\n",
            "False\n"
          ]
        }
      ]
    },
    {
      "cell_type": "code",
      "source": [
        "# Loops in String\n",
        "\n",
        "text = \"Python\"\n",
        "\n",
        "# Using for loop\n",
        "for ch in text:\n",
        "    print(ch)\n",
        "\n",
        "# Using while loop\n",
        "i = 0\n",
        "while i < len(text):\n",
        "    print(text[i])\n",
        "    i += 1\n"
      ],
      "metadata": {
        "colab": {
          "base_uri": "https://localhost:8080/"
        },
        "id": "oaxPaYEuFT9A",
        "outputId": "cd8c4de5-f29b-4b20-fff5-47426e6f69fe"
      },
      "execution_count": 32,
      "outputs": [
        {
          "output_type": "stream",
          "name": "stdout",
          "text": [
            "P\n",
            "y\n",
            "t\n",
            "h\n",
            "o\n",
            "n\n",
            "P\n",
            "y\n",
            "t\n",
            "h\n",
            "o\n",
            "n\n"
          ]
        }
      ]
    },
    {
      "cell_type": "code",
      "source": [
        "# Membership Operator\n",
        "\n",
        "text = \"Learning Python is fun!\"\n",
        "\n",
        "print(\"Python\" in text)      # True\n",
        "print(\"Java\" not in text)    # True\n",
        "print(\"Learn\" in text)       # True\n"
      ],
      "metadata": {
        "colab": {
          "base_uri": "https://localhost:8080/"
        },
        "id": "-pXvzgy8HI3y",
        "outputId": "03df8e0c-4204-4761-dc3e-9490fe015449"
      },
      "execution_count": 33,
      "outputs": [
        {
          "output_type": "stream",
          "name": "stdout",
          "text": [
            "True\n",
            "True\n",
            "True\n"
          ]
        }
      ]
    },
    {
      "cell_type": "markdown",
      "source": [
        "# Common Function\n",
        "\n",
        "*   len\n",
        "*   max -- Returns the character with the highest Unicode (ASCII) value.\n",
        "*   min -- eturns the character with the lowest Unicode value.  \n",
        "*   sorted -- Returns a list of characters sorted in ascending order by default.\n",
        "\n"
      ],
      "metadata": {
        "id": "k0zCRLI_H16i"
      }
    },
    {
      "cell_type": "code",
      "source": [
        "text = \"PythonProgramming\"\n",
        "\n",
        "print(len(text))   # Output: 18\n",
        "print(max(text))   # Output: y\n",
        "print(min(text))   # Output: P\n",
        "\n",
        "print(sorted(text))          # Output: ['h', 'n', 'o', 'p', 't', 'y']\n",
        "print(''.join(sorted(text))) # Output: hnopty\n",
        "\n",
        "print(sorted(text, reverse=True))  # Output: ['y', 't', 'p', 'o', 'n', 'h']\n",
        "\n"
      ],
      "metadata": {
        "colab": {
          "base_uri": "https://localhost:8080/"
        },
        "id": "Pc8aA2p8H4cL",
        "outputId": "c8e4fc58-b933-46bd-f5bc-88f67180fcbe"
      },
      "execution_count": 35,
      "outputs": [
        {
          "output_type": "stream",
          "name": "stdout",
          "text": [
            "17\n",
            "y\n",
            "P\n",
            "['P', 'P', 'a', 'g', 'g', 'h', 'i', 'm', 'm', 'n', 'n', 'o', 'o', 'r', 'r', 't', 'y']\n",
            "PPagghimmnnoorrty\n",
            "['y', 't', 'r', 'r', 'o', 'o', 'n', 'n', 'm', 'm', 'i', 'h', 'g', 'g', 'a', 'P', 'P']\n"
          ]
        }
      ]
    },
    {
      "cell_type": "markdown",
      "source": [
        "# Capitalize/Title/Upper/Lower/Swapcase"
      ],
      "metadata": {
        "id": "MJcNYaXKL7BP"
      }
    },
    {
      "cell_type": "code",
      "source": [
        "s = 'hello world'\n",
        "\n",
        "# Capitalize first letter only\n",
        "print(s.capitalize())\n",
        "\n",
        "# Capitalize first letter of each word\n",
        "print(s.title())\n",
        "\n",
        "# Capitalize all letter\n",
        "print(s.upper())\n",
        "\n",
        "# lowercase every letter\n",
        "print(s.lower())\n",
        "\n",
        "s1 = 'HeLlO WorLD'\n",
        "s1.swapcase()\n",
        "print(s1)"
      ],
      "metadata": {
        "colab": {
          "base_uri": "https://localhost:8080/"
        },
        "id": "84Az6u_8L8g-",
        "outputId": "b9ccdf77-d2f1-47d8-9899-a4b119649561"
      },
      "execution_count": 39,
      "outputs": [
        {
          "output_type": "stream",
          "name": "stdout",
          "text": [
            "Hello world\n",
            "Hello World\n",
            "HELLO WORLD\n",
            "hello world\n",
            "HeLlO WorLD\n"
          ]
        }
      ]
    },
    {
      "cell_type": "markdown",
      "source": [
        "# Count/Find/Index\n",
        "\n",
        "| Function  | Purpose                    | Return Value if Not Found |\n",
        "| --------- | -------------------------- | ------------------------- |\n",
        "| `count()` | Counts occurrences         | `0`                       |\n",
        "| `find()`  | Finds first index          | `-1`                      |\n",
        "| `index()` | Finds first index (strict) | ❌ Raises Error            |"
      ],
      "metadata": {
        "id": "iRI77sl6R2dR"
      }
    },
    {
      "cell_type": "code",
      "source": [
        "text = \"python programming is fun and python is powerful\"\n",
        "\n",
        "print(text.count(\"python\"))      # Output: 2\n",
        "print(text.count(\"is\"))          # Output: 2\n",
        "print(text.count(\"z\"))           # Output: 0"
      ],
      "metadata": {
        "colab": {
          "base_uri": "https://localhost:8080/"
        },
        "id": "j44fMB1YR4C8",
        "outputId": "249db734-bdd0-41b4-8e4c-fb1eb2f3bbb9"
      },
      "execution_count": 45,
      "outputs": [
        {
          "output_type": "stream",
          "name": "stdout",
          "text": [
            "2\n",
            "2\n",
            "0\n"
          ]
        }
      ]
    },
    {
      "cell_type": "code",
      "source": [
        "text = \"Python programming\"\n",
        "\n",
        "print(text.find(\"P\"))        # Output: 0\n",
        "print(text.find(\"pro\"))      # Output: 7\n",
        "print(text.find(\"x\"))        # Output: -1"
      ],
      "metadata": {
        "colab": {
          "base_uri": "https://localhost:8080/"
        },
        "id": "jtTcBtx3R-xa",
        "outputId": "1cbff4b8-5ca8-4392-8b76-a62b8a6bc332"
      },
      "execution_count": 46,
      "outputs": [
        {
          "output_type": "stream",
          "name": "stdout",
          "text": [
            "0\n",
            "7\n",
            "-1\n"
          ]
        }
      ]
    },
    {
      "cell_type": "code",
      "source": [
        "text = \"Python programming\"\n",
        "\n",
        "print(text.index(\"P\"))     # Output: 0\n",
        "print(text.index(\"gram\"))  # Output: 10\n",
        "\n",
        "# print(text.index(\"x\"))   # ❌ Error: ValueError: substring not found"
      ],
      "metadata": {
        "colab": {
          "base_uri": "https://localhost:8080/"
        },
        "id": "UQuGZtOVSEyW",
        "outputId": "e0c2278f-d3f7-445f-9ffd-9231cc1a1082"
      },
      "execution_count": 47,
      "outputs": [
        {
          "output_type": "stream",
          "name": "stdout",
          "text": [
            "0\n",
            "10\n"
          ]
        }
      ]
    },
    {
      "cell_type": "markdown",
      "source": [
        "# endswith/startswith"
      ],
      "metadata": {
        "id": "8KTV0idWUco-"
      }
    },
    {
      "cell_type": "code",
      "source": [
        "# startswith() -- Checks if a string starts with a given substring. 👉 Returns True or False.\n",
        "\n",
        "text = \"Python programming is fun\"\n",
        "\n",
        "print(text.startswith(\"Python\"))   # True\n",
        "print(text.startswith(\"python\"))   # False (case-sensitive)\n",
        "print(text.startswith(\"Pyt\"))      # True\n",
        "\n",
        "# You can also specify start and end positions:\n",
        "print(text.startswith(\"programming\", 7, 18))  # True"
      ],
      "metadata": {
        "colab": {
          "base_uri": "https://localhost:8080/"
        },
        "id": "qqiJDRHfUfXz",
        "outputId": "f986499d-9d3c-4045-b7d2-05e1883cd127"
      },
      "execution_count": 49,
      "outputs": [
        {
          "output_type": "stream",
          "name": "stdout",
          "text": [
            "True\n",
            "False\n",
            "True\n"
          ]
        }
      ]
    },
    {
      "cell_type": "code",
      "source": [
        "# endswith() -- Checks if a string ends with a given substring. 👉 Returns True or False.\n",
        "\n",
        "text = \"Python programming is fun\"\n",
        "\n",
        "print(text.endswith(\"fun\"))        # True\n",
        "print(text.endswith(\"Fun\"))        # False (case-sensitive)\n",
        "print(text.endswith(\"ing\"))        # False (whole string ends with \"fun\")\n",
        "\n",
        "# Can also limit the checking range\n",
        "print(text.endswith(\"programming\", 0, 18))  # True"
      ],
      "metadata": {
        "colab": {
          "base_uri": "https://localhost:8080/"
        },
        "id": "wxd4LJRIUtRl",
        "outputId": "ced8f9cc-1cfc-41c0-84f9-053a194059e8"
      },
      "execution_count": 50,
      "outputs": [
        {
          "output_type": "stream",
          "name": "stdout",
          "text": [
            "True\n",
            "False\n",
            "False\n",
            "True\n"
          ]
        }
      ]
    },
    {
      "cell_type": "markdown",
      "source": [
        "# format"
      ],
      "metadata": {
        "id": "8lTozwk7WNLt"
      }
    },
    {
      "cell_type": "code",
      "source": [
        "# format()\n",
        "\n",
        "name = \"Aman\"\n",
        "age = 21\n",
        "\n",
        "print(\"My name is {} and I am {} years old.\".format(name, age))\n",
        "\n",
        "# Using Positional Indexes\n",
        "print(\"{1} is learning {0}\".format(\"Python\", \"Aman\"))\n",
        "\n",
        "# Using Named Placeholders\n",
        "print(\"My name is {name} and I love {lang}.\".format(name=\"Aman\", lang=\"Python\"))\n",
        "\n",
        "# Formatting Numbers\n",
        "pi = 3.1415926\n",
        "print(\"Value of pi is {:.2f}\".format(pi))    # 2 decimal places\n",
        "\n",
        "\n",
        "# Formatting with f-strings (modern alternative)\n",
        "name = \"Aman\"\n",
        "age = 21\n",
        "print(f\"My name is {name} and I am {age} years old.\")\n"
      ],
      "metadata": {
        "colab": {
          "base_uri": "https://localhost:8080/"
        },
        "id": "-Dbq_TeaWS6w",
        "outputId": "04f84ddd-9e37-4162-a70a-28af100a37e7"
      },
      "execution_count": 51,
      "outputs": [
        {
          "output_type": "stream",
          "name": "stdout",
          "text": [
            "My name is Aman and I am 21 years old.\n",
            "Aman is learning Python\n",
            "My name is Aman and I love Python.\n",
            "Value of pi is 3.14\n",
            "My name is Aman and I am 21 years old.\n"
          ]
        }
      ]
    },
    {
      "cell_type": "markdown",
      "source": [
        "# isalnum/ isalpha/ isdigit/ isidentifier\n",
        "\n",
        "| Method           | Description                |\n",
        "| ---------------- | -------------------------- |\n",
        "| `isalnum()`      | Letters or digits          |\n",
        "| `isalpha()`      | Letters only               |\n",
        "| `isdigit()`      | Digits only                |\n",
        "| `isidentifier()` | Valid Python variable name |"
      ],
      "metadata": {
        "id": "LIZYqsKOX-Le"
      }
    },
    {
      "cell_type": "code",
      "source": [
        "# isalnum() – Alphanumeric Check\n",
        "# Returns True if all characters in the string are letters or numbers and there’s at least one character.\n",
        "\n",
        "s1 = \"Python123\"\n",
        "s2 = \"Python 123\"\n",
        "s3 = \"123\"\n",
        "s4 = \"Python\"\n",
        "\n",
        "print(s1.isalnum())   # True\n",
        "print(s2.isalnum())   # False (space is not allowed)\n",
        "print(s3.isalnum())   # True\n",
        "print(s4.isalnum())   # True\n"
      ],
      "metadata": {
        "colab": {
          "base_uri": "https://localhost:8080/"
        },
        "id": "uP4DEdf-X_-y",
        "outputId": "6fc9a220-7239-44a8-9456-1b192ae27d28"
      },
      "execution_count": 53,
      "outputs": [
        {
          "output_type": "stream",
          "name": "stdout",
          "text": [
            "True\n",
            "False\n",
            "True\n",
            "True\n"
          ]
        }
      ]
    },
    {
      "cell_type": "code",
      "source": [
        "# isalpha() – Alphabetic Check\n",
        "# Returns True if all characters are letters only and there’s at least one character.\n",
        "\n",
        "s1 = \"Python\"\n",
        "s2 = \"Python123\"\n",
        "s3 = \"123\"\n",
        "\n",
        "print(s1.isalpha())   # True\n",
        "print(s2.isalpha())   # False\n",
        "print(s3.isalpha())   # False\n"
      ],
      "metadata": {
        "colab": {
          "base_uri": "https://localhost:8080/"
        },
        "id": "nEdx0Dh9ZlvC",
        "outputId": "8905b31e-22b2-4607-a790-d618de18e4b6"
      },
      "execution_count": 54,
      "outputs": [
        {
          "output_type": "stream",
          "name": "stdout",
          "text": [
            "True\n",
            "False\n",
            "False\n"
          ]
        }
      ]
    },
    {
      "cell_type": "code",
      "source": [
        "# isdigit() – Digit Check\n",
        "# Returns True if all characters are digits only.\n",
        "\n",
        "s1 = \"12345\"\n",
        "s2 = \"Python123\"\n",
        "s3 = \"12.3\"\n",
        "\n",
        "print(s1.isdigit())   # True\n",
        "print(s2.isdigit())   # False\n",
        "print(s3.isdigit())   # False (dot is not digit)\n"
      ],
      "metadata": {
        "colab": {
          "base_uri": "https://localhost:8080/"
        },
        "id": "dbBXOQK0bYNW",
        "outputId": "c5ff549e-3c58-48f6-e233-b1c2ca88fe23"
      },
      "execution_count": 55,
      "outputs": [
        {
          "output_type": "stream",
          "name": "stdout",
          "text": [
            "True\n",
            "False\n",
            "False\n"
          ]
        }
      ]
    },
    {
      "cell_type": "code",
      "source": [
        "#  isidentifier() – Valid Identifier Check\n",
        "# Returns True if the string is a valid Python variable name:\n",
        "# Starts with a letter or underscore, Can contain letters, numbers, underscores, no Python keyword\n",
        "\n",
        "s1 = \"my_var\"\n",
        "s2 = \"123var\"\n",
        "s3 = \"var123\"\n",
        "s4 = \"for\"   # keyword\n",
        "\n",
        "print(s1.isidentifier())  # True\n",
        "print(s2.isidentifier())  # False\n",
        "print(s3.isidentifier())  # True\n",
        "print(s4.isidentifier())  # True (isidentifier True, but 'for' is keyword)\n"
      ],
      "metadata": {
        "colab": {
          "base_uri": "https://localhost:8080/"
        },
        "id": "YyZF7wyIcoQh",
        "outputId": "173db546-e038-45bf-c1d7-139f05bd97e5"
      },
      "execution_count": 56,
      "outputs": [
        {
          "output_type": "stream",
          "name": "stdout",
          "text": [
            "True\n",
            "False\n",
            "True\n",
            "True\n"
          ]
        }
      ]
    },
    {
      "cell_type": "markdown",
      "source": [
        "# Split/Join\n",
        "\n",
        "| Method    | Purpose                  | Example                   | Output          |\n",
        "| --------- | ------------------------ | ------------------------- | --------------- |\n",
        "| `split()` | Break string into list   | `\"a,b,c\".split(\",\")`      | `['a','b','c']` |\n",
        "| `join()`  | Combine list into string | `\"-\".join(['a','b','c'])` | `'a-b-c'`       |\n",
        "\n",
        "\n",
        "split() → string → list   \n",
        "join() → list → string"
      ],
      "metadata": {
        "id": "IAnZdxSRd54r"
      }
    },
    {
      "cell_type": "code",
      "source": [
        "# split() – Break a string into a list\n",
        "# Splits a string into substrings based on a separator.\n",
        "# Default separator: whitespace.\n",
        "# Returns a list of substrings.\n",
        "\n",
        "text = \"Python is fun\"\n",
        "\n",
        "# Default split by space\n",
        "words = text.split()\n",
        "print(words)  # Output: ['Python', 'is', 'fun']\n",
        "\n",
        "# Split by a specific character\n",
        "csv = \"apple,banana,orange\"\n",
        "fruits = csv.split(\",\")\n",
        "print(fruits)  # Output: ['apple', 'banana', 'orange']\n",
        "\n",
        "# Limit number of splits\n",
        "text2 = \"one two three four\"\n",
        "print(text2.split(\" \", 2))  # Output: ['one', 'two', 'three four']\n"
      ],
      "metadata": {
        "colab": {
          "base_uri": "https://localhost:8080/"
        },
        "id": "IZrhV47Qd7OG",
        "outputId": "0475fa35-2017-4ae2-ec4c-fb5d9242f077"
      },
      "execution_count": 57,
      "outputs": [
        {
          "output_type": "stream",
          "name": "stdout",
          "text": [
            "['Python', 'is', 'fun']\n",
            "['apple', 'banana', 'orange']\n",
            "['one', 'two', 'three four']\n"
          ]
        }
      ]
    },
    {
      "cell_type": "code",
      "source": [
        "#  join() – Combine a list into a string\n",
        "# Joins elements of a list (or iterable) into a string.\n",
        "# Syntax: separator.join(list)\n",
        "\n",
        "words = ['Python', 'is', 'fun']\n",
        "\n",
        "# Join with space\n",
        "sentence = \" \".join(words)\n",
        "print(sentence)  # Output: Python is fun\n",
        "\n",
        "# Join with comma\n",
        "csv = \",\".join(words)\n",
        "print(csv)  # Output: Python,is,fun\n"
      ],
      "metadata": {
        "colab": {
          "base_uri": "https://localhost:8080/"
        },
        "id": "qjByHOJWedx0",
        "outputId": "d2ff4e9a-0608-4632-bfb3-9c8eb8b212b3"
      },
      "execution_count": 58,
      "outputs": [
        {
          "output_type": "stream",
          "name": "stdout",
          "text": [
            "Python is fun\n",
            "Python,is,fun\n"
          ]
        }
      ]
    },
    {
      "cell_type": "markdown",
      "source": [
        "# Replace"
      ],
      "metadata": {
        "id": "xxVkD9gUgeu-"
      }
    },
    {
      "cell_type": "code",
      "source": [
        "# replace() – Replace Substrings\n",
        "# Syntax: string.replace(old, new, count)\n",
        "\n",
        "\n",
        "text = \"Python is fun. Python is easy.\"\n",
        "\n",
        "# Replace all occurrences\n",
        "new_text = text.replace(\"Python\", \"Java\")\n",
        "print(new_text)\n",
        "# Output: Java is fun. Java is easy.\n",
        "\n",
        "# Replace only first occurrence\n",
        "new_text2 = text.replace(\"Python\", \"Java\", 1)\n",
        "print(new_text2)\n",
        "# Output: Java is fun. Python is easy.\n"
      ],
      "metadata": {
        "id": "GXyAbETighk0"
      },
      "execution_count": null,
      "outputs": []
    },
    {
      "cell_type": "markdown",
      "source": [
        "# Strip"
      ],
      "metadata": {
        "id": "y4Uu5ybchNop"
      }
    },
    {
      "cell_type": "code",
      "source": [
        "# strip() – Remove leading and trailing characters\n",
        "# string.strip(chars)\n",
        "\n",
        "text = \"   Python Programming   \"\n",
        "\n",
        "# Remove spaces from start and end\n",
        "print(text.strip())\n",
        "# Output: 'Python Programming'\n",
        "\n",
        "# Remove specific characters\n",
        "text2 = \"###Python###\"\n",
        "print(text2.strip(\"#\"))\n",
        "# Output: 'Python'\n",
        "\n",
        "# Remove multiple characters\n",
        "text3 = \"**@@Python@@**\"\n",
        "print(text3.strip(\"*@\"))\n",
        "# Output: 'Python'\n"
      ],
      "metadata": {
        "colab": {
          "base_uri": "https://localhost:8080/"
        },
        "id": "wNSYCF_uhOqa",
        "outputId": "32916cea-15d8-4c98-b9aa-9b01ad532d1e"
      },
      "execution_count": 59,
      "outputs": [
        {
          "output_type": "stream",
          "name": "stdout",
          "text": [
            "Python Programming\n",
            "Python\n",
            "Python\n"
          ]
        }
      ]
    },
    {
      "cell_type": "markdown",
      "source": [
        "| Method     | Description                                   |\n",
        "| ---------- | --------------------------------------------- |\n",
        "| `lstrip()` | Removes characters from **start** (left) only |\n",
        "| `rstrip()` | Removes characters from **end** (right) only  |\n"
      ],
      "metadata": {
        "id": "Tp7apzbVhdeC"
      }
    },
    {
      "cell_type": "code",
      "source": [
        "text = \"   Hello World   \"\n",
        "\n",
        "print(text.lstrip())  # 'Hello World   '\n",
        "print(text.rstrip())  # '   Hello World'\n"
      ],
      "metadata": {
        "colab": {
          "base_uri": "https://localhost:8080/"
        },
        "id": "P7jnMaD7hc0D",
        "outputId": "874e55cb-1ee3-4a5f-a819-cd12c8ff61db"
      },
      "execution_count": 60,
      "outputs": [
        {
          "output_type": "stream",
          "name": "stdout",
          "text": [
            "Hello World   \n",
            "   Hello World\n"
          ]
        }
      ]
    },
    {
      "cell_type": "markdown",
      "source": [
        "# **Exercise**"
      ],
      "metadata": {
        "id": "M4oSGOuM2QLZ"
      }
    },
    {
      "cell_type": "code",
      "source": [
        "# Find the length of a given string without using the len() function\n",
        "\n",
        "str = input(\"Enter the number of strings: \")\n",
        "cnt = 0;\n",
        "\n",
        "for i in str:\n",
        "  cnt += 1\n",
        "\n",
        "print(\"The length of string is : \",cnt)"
      ],
      "metadata": {
        "colab": {
          "base_uri": "https://localhost:8080/"
        },
        "id": "DS9BFfdw2TKZ",
        "outputId": "3d026320-6aea-47e7-afe2-645cbce4db6d"
      },
      "execution_count": 63,
      "outputs": [
        {
          "output_type": "stream",
          "name": "stdout",
          "text": [
            "Enter the number of strings: mhffhhjv\n",
            "The length of string is :  8\n"
          ]
        }
      ]
    },
    {
      "cell_type": "code",
      "source": [
        "# Extract username from a given email.\n",
        "# Eg if the email is nitish24singh@gmail.com\n",
        "# then the username should be nitish24singh\n",
        "\n",
        "str = input(\"Enter the email: \")\n",
        "pos = str.index(\"@\")\n",
        "print(str[:pos])"
      ],
      "metadata": {
        "colab": {
          "base_uri": "https://localhost:8080/"
        },
        "id": "Rr8Dni5a7Zxi",
        "outputId": "7e9e7667-6d62-4ab2-a712-1875acda3c77"
      },
      "execution_count": 64,
      "outputs": [
        {
          "output_type": "stream",
          "name": "stdout",
          "text": [
            "Enter the email: amannegi@gmail.com\n",
            "amannegi\n"
          ]
        }
      ]
    },
    {
      "cell_type": "code",
      "source": [
        "# Count the frequency of a particular character in a provided string.\n",
        "# Eg 'hello how are you' is the string, the frequency of h in this string is 2.\n",
        "\n",
        "str = input(\"Enter the String : \")\n",
        "char = input('Which character are you searching : ')\n",
        "\n",
        "# 1\n",
        "cnt = str.count(char)\n",
        "print(cnt)\n",
        "\n",
        "# 2\n",
        "counter = 0\n",
        "for i in str:\n",
        "  if i == char:\n",
        "    counter += 1\n",
        "\n",
        "print(f'frequency of char {char} : ',counter)\n"
      ],
      "metadata": {
        "colab": {
          "base_uri": "https://localhost:8080/"
        },
        "id": "_G_F6fw69qLw",
        "outputId": "cf863dc1-5463-4bf2-b639-fb3db606a319"
      },
      "execution_count": 71,
      "outputs": [
        {
          "output_type": "stream",
          "name": "stdout",
          "text": [
            "Enter the String : nbhgftsh\n",
            "Which character are you searching : h\n",
            "2\n",
            "frequency of char h :  2\n"
          ]
        }
      ]
    },
    {
      "cell_type": "code",
      "source": [
        "# Write a program which can remove a particular character from a string.\n",
        "\n",
        "str = input(\"Enter the String : \")\n",
        "char = input('Which character are you searching : ')\n",
        "\n",
        "new_str = str.replace(char,'')\n",
        "print(new_str)"
      ],
      "metadata": {
        "colab": {
          "base_uri": "https://localhost:8080/"
        },
        "id": "z_lIdr7KDaNc",
        "outputId": "79673893-31f3-4327-acfa-82e33740cc9e"
      },
      "execution_count": 72,
      "outputs": [
        {
          "output_type": "stream",
          "name": "stdout",
          "text": [
            "Enter the String : amansingh\n",
            "Which character are you searching : s\n",
            "amaningh\n"
          ]
        }
      ]
    },
    {
      "cell_type": "code",
      "source": [
        "# Write a program that can check whether a given string is palindrome or not.\n",
        "# abba\n",
        "# malayalam\n",
        "\n",
        "str = input(\"Enter the String : \")\n",
        "\n",
        "if str == str[::-1]:\n",
        "  print(\"Palindrome\")\n",
        "else:\n",
        "  print(\"Not Palindrome\")\n",
        "\n",
        "\n",
        "'''\n",
        "\n",
        "s = input('enter the string')\n",
        "flag = True\n",
        "for i in range(0,len(s)//2):\n",
        "  if s[i] != s[len(s) - i -1]:\n",
        "    flag = False\n",
        "    print('Not a Palindrome')\n",
        "    break\n",
        "\n",
        "if flag:\n",
        "  print('Palindrome')\n",
        "\n",
        "'''"
      ],
      "metadata": {
        "colab": {
          "base_uri": "https://localhost:8080/"
        },
        "id": "DIWGgsWBD7He",
        "outputId": "13b9d427-5ac6-4871-a114-e715123899a2"
      },
      "execution_count": 73,
      "outputs": [
        {
          "output_type": "stream",
          "name": "stdout",
          "text": [
            "Enter the String : aman\n",
            "Not Palindrome\n"
          ]
        }
      ]
    },
    {
      "cell_type": "code",
      "source": [
        "# Write a program to count the number of words in a string without split() and print all parts\n",
        "\n",
        "str = input(\"Enter the String : \")\n",
        "lst = []\n",
        "temp = ''\n",
        "cnt = 0\n",
        "\n",
        "for i in str:\n",
        "  if i != ' ':\n",
        "    temp += i\n",
        "  else:\n",
        "    cnt += 1\n",
        "    lst.append(temp)\n",
        "    temp = ''\n",
        "\n",
        "lst.append(temp)\n",
        "\n",
        "print(\"Total no of words in string :\", cnt + 1)\n",
        "print(\"Words in string\", lst)"
      ],
      "metadata": {
        "colab": {
          "base_uri": "https://localhost:8080/"
        },
        "id": "WHFAREy-GVIW",
        "outputId": "c09e7aae-8e88-423a-f49c-fa0c71b0cc97"
      },
      "execution_count": 74,
      "outputs": [
        {
          "output_type": "stream",
          "name": "stdout",
          "text": [
            "Enter the String : aman sigh negi is a boy\n",
            "Total no of words in string : 6\n",
            "Words in string ['aman', 'sigh', 'negi', 'is', 'a', 'boy']\n"
          ]
        }
      ]
    },
    {
      "cell_type": "code",
      "source": [
        "# Write a python program to convert a string to title case without using the title()\n",
        "s = input('enter the string')\n",
        "\n",
        "L = []\n",
        "for i in s.split():\n",
        "  L.append(i[0].upper() + i[1:].lower())\n",
        "\n",
        "print(\" \".join(L))"
      ],
      "metadata": {
        "colab": {
          "base_uri": "https://localhost:8080/"
        },
        "id": "K7iyvfRIHHXL",
        "outputId": "d5e92693-e12b-4ea5-cfc7-9a9d0ebc03e4"
      },
      "execution_count": 75,
      "outputs": [
        {
          "output_type": "stream",
          "name": "stdout",
          "text": [
            "enter the stringaman singh\n",
            "Aman Singh\n"
          ]
        }
      ]
    }
  ]
}