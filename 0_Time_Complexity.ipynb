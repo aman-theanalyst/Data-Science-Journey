{
  "nbformat": 4,
  "nbformat_minor": 0,
  "metadata": {
    "colab": {
      "provenance": [],
      "authorship_tag": "ABX9TyOregBwkBSzYB9JpZp8ycPt",
      "include_colab_link": true
    },
    "kernelspec": {
      "name": "python3",
      "display_name": "Python 3"
    },
    "language_info": {
      "name": "python"
    }
  },
  "cells": [
    {
      "cell_type": "markdown",
      "metadata": {
        "id": "view-in-github",
        "colab_type": "text"
      },
      "source": [
        "<a href=\"https://colab.research.google.com/github/aman-theanalyst/Data-Science-Journey/blob/main/0_Time_Complexity.ipynb\" target=\"_parent\"><img src=\"https://colab.research.google.com/assets/colab-badge.svg\" alt=\"Open In Colab\"/></a>"
      ]
    },
    {
      "cell_type": "markdown",
      "source": [
        "Algorithm complexity measures how efficient an algorithm is — mainly in terms of:\n",
        "*   Time complexity → how much time (steps) it takes to run\n",
        "*   Space complexity → how much memory it uses\n",
        "\n",
        "\n",
        "\n"
      ],
      "metadata": {
        "id": "s9r-gh79Q9Ea"
      }
    },
    {
      "cell_type": "code",
      "execution_count": null,
      "metadata": {
        "id": "GaDgSe3jEBOp"
      },
      "outputs": [],
      "source": [
        "# Time Efficiency\n",
        "\n",
        "'''\n",
        "Technique:\n",
        " 1. Measure time to execute\n",
        " 2. Counting operation involved\n",
        " 3. Abstract notion of order of growth\n",
        "'''"
      ]
    },
    {
      "cell_type": "markdown",
      "source": [
        "# Measuring time to execute\n",
        "\n",
        "**Disadv:**\n",
        "*   Different time for different Algo\n",
        "*   Different time for different machine\n",
        "*   Can't establish relationship between time and input\n",
        "*   doesnt work with extremely small input i.e. assigning value to var\n",
        "\n",
        "\n"
      ],
      "metadata": {
        "id": "lrJJDSTiR3YS"
      }
    },
    {
      "cell_type": "code",
      "source": [
        "# Measuring time to execute\n",
        "\n",
        "import time\n",
        "\n",
        "start = time.time()   # function to get current time\n",
        "\n",
        "for i in range(1,10):\n",
        "  print(i)\n",
        "\n",
        "end = time.time()\n",
        "print(end-start)\n",
        "\n",
        "\n",
        "# Problem with this app"
      ],
      "metadata": {
        "colab": {
          "base_uri": "https://localhost:8080/"
        },
        "id": "sD8zEP6ER4uG",
        "outputId": "5d8f0a90-2914-41e7-c677-70236be2982e"
      },
      "execution_count": null,
      "outputs": [
        {
          "output_type": "stream",
          "name": "stdout",
          "text": [
            "1\n",
            "2\n",
            "3\n",
            "4\n",
            "5\n",
            "6\n",
            "7\n",
            "8\n",
            "9\n",
            "0.0002124309539794922\n"
          ]
        }
      ]
    },
    {
      "cell_type": "markdown",
      "source": [
        "# Counting Operations\n",
        "\n",
        "Counting operations means measuring how many basic steps (operations) an algorithm performs to complete a task.\n",
        "\n",
        "It helps you estimate time complexity — how execution time grows with input size (n)\n",
        "\n",
        "It assume constant time for these operations:\n",
        "*   mathematical Operations\n",
        "*   comparisions\n",
        "*   assignments\n",
        "*   assign object in memory\n",
        "\n",
        "**Disadv:**\n",
        "*   Time varies if implementation changes\n",
        "*   TNo clear efinition of which operation to count\n"
      ],
      "metadata": {
        "id": "K42Tcc1NqEq-"
      }
    },
    {
      "cell_type": "code",
      "source": [
        "# Counting Operations\n",
        "\n",
        "n = 5                             # 1 operation\n",
        "sum = 0;                          # 1 operation\n",
        "for i in range(n):                # runs n times\n",
        "    sum = sum + i;                # 1 operation each loop\n",
        "\n",
        "print(sum)                        # 1 operation"
      ],
      "metadata": {
        "colab": {
          "base_uri": "https://localhost:8080/"
        },
        "id": "Sq6KzjJEqtdN",
        "outputId": "3d3f9256-a03d-41b7-b3ab-47ef2a847880"
      },
      "execution_count": 6,
      "outputs": [
        {
          "output_type": "stream",
          "name": "stdout",
          "text": [
            "10\n"
          ]
        }
      ]
    },
    {
      "cell_type": "markdown",
      "source": [
        "What do we want:\n",
        "1.   We want to evaluate the algo\n",
        "1.   We want to evaluate scalability\n",
        "2.   We want to evaluate in term of input size\n",
        "\n",
        "# Worst, Average and Best Case Analysis of Algorithms\n",
        "\n",
        "| Case             | Meaning                                                                                    | Goal                             |\n",
        "| ---------------- | ------------------------------------------------------------------------------------------ | -------------------------------- |\n",
        "| **Best Case**    | The algorithm performs the **minimum number of operations** — the most *favorable* input.  | Shows **optimistic** performance |\n",
        "| **Worst Case**   | The algorithm performs the **maximum number of operations** — the least *favorable* input. | Ensures **upper bound** of time  |\n",
        "| **Average Case** | The **expected number of operations** over all possible inputs of size *n*.                | Shows **realistic** performance  |\n"
      ],
      "metadata": {
        "id": "-SKM2WKUsC5M"
      }
    },
    {
      "cell_type": "code",
      "source": [
        "# Best Case - Worst Case - Average Case\n",
        "\n",
        "def binary_search(arr, key):\n",
        "    low, high = 0, len(arr) - 1\n",
        "    while low <= high:\n",
        "        mid = (low + high) // 2\n",
        "        if arr[mid] == key:\n",
        "            return mid\n",
        "        elif arr[mid] < key:\n",
        "            low = mid + 1\n",
        "        else:\n",
        "            high = mid - 1\n",
        "    return -1\n",
        "\n",
        "# Best Case\t  - key at middle on first check - O(1)\n",
        "# Worst Case\t- key not present → keep halving - O(log n)\n",
        "# Average Case - Random position of key - O(log n)"
      ],
      "metadata": {
        "id": "29WsM_vHtJbP"
      },
      "execution_count": 7,
      "outputs": []
    },
    {
      "cell_type": "markdown",
      "source": [
        "# Order of Growth\n",
        "\n",
        "Order of Growth describes how the running time (or number of operations) of an algorithm increases as the input size (n) increases.\n",
        "\n",
        "It helps compare algorithms independent of hardware or language.\n",
        "\n",
        "We genrally want a tight upper bound on growth (worstcase)"
      ],
      "metadata": {
        "id": "BHWiZnLYtwxh"
      }
    },
    {
      "cell_type": "code",
      "source": [
        "# Order of Growth\n",
        "\n",
        "'''\n",
        "Step 1: Identify the Input Size (n)\n",
        "Step 2: Count Basic Operations\n",
        "Step 3: Express Total Operations as a Function f(n)\n",
        "Step 4: Keep the Dominant Term\n",
        "Step 5: Drop Constants\n",
        "Step 6: Simplify\n",
        "'''\n",
        "\n",
        "# c < LogLog n < Log n  < n1/3 < n1/2  < n < n.Log n < n2 < n2.Log n < n3  < n4 < 2n  < nn"
      ],
      "metadata": {
        "colab": {
          "base_uri": "https://localhost:8080/",
          "height": 53
        },
        "id": "zFeI3jmwtuNA",
        "outputId": "d5c02e17-9eb1-4b0d-916c-9a291761957c"
      },
      "execution_count": 8,
      "outputs": [
        {
          "output_type": "execute_result",
          "data": {
            "text/plain": [
              "'\\nStep 1: Identify the Input Size (n)\\nStep 2: Count Basic Operations\\nStep 3: Express Total Operations as a Function f(n\\n'"
            ],
            "application/vnd.google.colaboratory.intrinsic+json": {
              "type": "string"
            }
          },
          "metadata": {},
          "execution_count": 8
        }
      ]
    },
    {
      "cell_type": "markdown",
      "source": [
        "| Order          | Name         | Example                        | Growth Behavior                  |\n",
        "| -------------- | ------------ | ------------------------------ | -------------------------------- |\n",
        "| **O(1)**       | Constant     | Accessing element in array     | Fastest, independent of n        |\n",
        "| **O(log n)**   | Logarithmic  | Binary Search                  | Increases slowly                 |\n",
        "| **O(n)**       | Linear       | Linear Search, simple loop     | Grows directly with n            |\n",
        "| **O(n log n)** | Linearithmic | Merge Sort, Quick Sort         | Slightly faster than n²          |\n",
        "| **O(n²)**      | Quadratic    | Nested loops                   | Grows very fast                  |\n",
        "| **O(n³)**      | Cubic        | Triple nested loops            | Extremely fast growth            |\n",
        "| **O(2ⁿ)**      | Exponential  | Recursive Fibonacci            | Grows explosively                |\n",
        "| **O(n!)**      | Factorial    | Traveling Salesman brute force | Practically unusable for large n |\n"
      ],
      "metadata": {
        "id": "Q9Z40dqKu2cj"
      }
    },
    {
      "cell_type": "markdown",
      "source": [
        "**Visualization of Growth**\n",
        "\n",
        "| n    | O(1) | O(log n) | O(n) | O(n log n) | O(n²)     |\n",
        "| ---- | ---- | -------- | ---- | ---------- | --------- |\n",
        "| 10   | 1    | 3        | 10   | 30         | 100       |\n",
        "| 100  | 1    | 7        | 100  | 700        | 10,000    |\n",
        "| 1000 | 1    | 10       | 1000 | 10,000     | 1,000,000 |\n"
      ],
      "metadata": {
        "id": "yRFBbYc5vB1D"
      }
    },
    {
      "cell_type": "code",
      "source": [
        "#  Linear Time - O(n)\n",
        "\n",
        "def linear_time(arr):\n",
        "    for i in arr:\n",
        "        print(i)\n"
      ],
      "metadata": {
        "id": "VBZzmKoezNlN"
      },
      "execution_count": 9,
      "outputs": []
    },
    {
      "cell_type": "code",
      "source": [
        "# Quadratic Time - O(n2)\n",
        "\n",
        "def quadratic_time(arr):\n",
        "    n = len(arr)\n",
        "    for i in range(n):\n",
        "        for j in range(n):\n",
        "            print(arr[i], arr[j])\n"
      ],
      "metadata": {
        "id": "azvx18ZRzWFe"
      },
      "execution_count": 10,
      "outputs": []
    },
    {
      "cell_type": "code",
      "source": [
        "# Logarithmic Time - O(log n)\n",
        "\n",
        "def logarithmic_time(n):\n",
        "    while n > 1:\n",
        "        n = n // 2\n",
        "        print(n)\n"
      ],
      "metadata": {
        "id": "KevbNvtezcbZ"
      },
      "execution_count": 11,
      "outputs": []
    },
    {
      "cell_type": "code",
      "source": [
        "# Linearithmic Time - O(n.log n)\n",
        "\n",
        "def linearithmic_time(arr):\n",
        "    n = len(arr)\n",
        "    for i in range(n):\n",
        "        j = n\n",
        "        while j > 1:\n",
        "            j = j // 2\n",
        "            print(i, j)\n"
      ],
      "metadata": {
        "id": "OMkBBEE-zkFF"
      },
      "execution_count": 12,
      "outputs": []
    },
    {
      "cell_type": "code",
      "source": [
        "# Exponential Time - O(2^n)\n",
        "\n",
        "def fibonacci(n):\n",
        "    if n <= 1:\n",
        "        return n\n",
        "    return fibonacci(n-1) + fibonacci(n-2)\n"
      ],
      "metadata": {
        "id": "D-nP6gnAzqzx"
      },
      "execution_count": 14,
      "outputs": []
    },
    {
      "cell_type": "code",
      "source": [
        "# Factorial Time - O(n!)\n",
        "\n",
        "import itertools\n",
        "\n",
        "def factorial_time(arr):\n",
        "    for perm in itertools.permutations(arr):\n",
        "        print(perm)"
      ],
      "metadata": {
        "id": "zhlZnl3nz1X8"
      },
      "execution_count": 15,
      "outputs": []
    }
  ]
}