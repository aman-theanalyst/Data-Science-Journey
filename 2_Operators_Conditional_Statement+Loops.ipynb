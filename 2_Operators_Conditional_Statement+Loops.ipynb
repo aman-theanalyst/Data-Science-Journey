{
  "nbformat": 4,
  "nbformat_minor": 0,
  "metadata": {
    "colab": {
      "provenance": [],
      "collapsed_sections": [
        "Hdh0XgGNTx6p",
        "JM9dZBaAXjYr",
        "cGggy7rybAdY",
        "xbPj25bfdWZ5",
        "HZUYzOkDgxB0"
      ],
      "authorship_tag": "ABX9TyNfiZlwgb5+HfOSfWyh8hBl",
      "include_colab_link": true
    },
    "kernelspec": {
      "name": "python3",
      "display_name": "Python 3"
    },
    "language_info": {
      "name": "python"
    }
  },
  "cells": [
    {
      "cell_type": "markdown",
      "metadata": {
        "id": "view-in-github",
        "colab_type": "text"
      },
      "source": [
        "<a href=\"https://colab.research.google.com/github/aman-theanalyst/Data-Science-Journey/blob/main/2_Operators_Conditional_Statement%2BLoops.ipynb\" target=\"_parent\"><img src=\"https://colab.research.google.com/assets/colab-badge.svg\" alt=\"Open In Colab\"/></a>"
      ]
    },
    {
      "cell_type": "markdown",
      "source": [
        "# Operators"
      ],
      "metadata": {
        "id": "Hdh0XgGNTx6p"
      }
    },
    {
      "cell_type": "markdown",
      "source": [
        "Operators in general are used to perform operations on values and variables.\n",
        "\n",
        "Operators: Special symbols like -, + , * , /, etc.  \n",
        "Operands: Value on which the operator is applied.\n",
        "\n",
        "---\n",
        "\n",
        "1. Arithmetic Operators\n",
        "2. Relational Operators\n",
        "3. Logical Operators\n",
        "4. Bitwise Operators\n",
        "5. Assignment operators\n",
        "6. Membership Operators"
      ],
      "metadata": {
        "id": "fJKauwVGT2lu"
      }
    },
    {
      "cell_type": "code",
      "source": [
        "# Arithmetic Operators -- Used for basic mathematical operations\n",
        "\n",
        "a = 10\n",
        "b = 3\n",
        "\n",
        "print(\"Addition:\", a + b)\n",
        "print(\"Subtraction:\", a - b)\n",
        "print(\"Multiplication:\", a * b)\n",
        "print(\"Division:\", a / b)\n",
        "print(\"Floor Division:\", a // b) # Integer division\n",
        "print(\"Modulus:\", a % b)\n",
        "print(\"Exponent:\", a ** b)\n"
      ],
      "metadata": {
        "colab": {
          "base_uri": "https://localhost:8080/"
        },
        "id": "DowAB6SaBwC-",
        "outputId": "5b5faa37-2fb4-4aff-f533-29ea33e98e0e"
      },
      "execution_count": null,
      "outputs": [
        {
          "output_type": "stream",
          "name": "stdout",
          "text": [
            "Addition: 13\n",
            "Subtraction: 7\n",
            "Multiplication: 30\n",
            "Division: 3.3333333333333335\n",
            "Floor Division: 3\n",
            "Modulus: 1\n",
            "Exponent: 1000\n"
          ]
        }
      ]
    },
    {
      "cell_type": "code",
      "source": [
        "# Relational Operators -- Used to compare values and return True or False\n",
        "\n",
        "x = 5\n",
        "y = 8\n",
        "\n",
        "print(\"Equal:\", x == y)\n",
        "print(\"Not equal:\", x != y)\n",
        "print(\"Greater than:\", x > y)\n",
        "print(\"Less than:\", x < y)\n",
        "print(\"Greater or equal:\", x >= y)\n",
        "print(\"Less or equal:\", x <= y)\n"
      ],
      "metadata": {
        "id": "GVeTfIM0UtBQ"
      },
      "execution_count": null,
      "outputs": []
    },
    {
      "cell_type": "code",
      "source": [
        "# Logical Operators -- Used to combine conditional statement\n",
        "\n",
        "p = True\n",
        "q = False\n",
        "\n",
        "print(\"AND:\", p and q)  # False\n",
        "print(\"OR:\", p or q)    # True\n",
        "print(\"NOT p:\", not p)  # False\n"
      ],
      "metadata": {
        "colab": {
          "base_uri": "https://localhost:8080/"
        },
        "id": "xb7negyYU-mM",
        "outputId": "774083ae-1af0-486d-ae3c-f543a65fee3e"
      },
      "execution_count": null,
      "outputs": [
        {
          "output_type": "stream",
          "name": "stdout",
          "text": [
            "AND: False\n",
            "OR: True\n",
            "NOT p: False\n"
          ]
        }
      ]
    },
    {
      "cell_type": "code",
      "source": [
        "# Bitwise Operators -- Operate at the binary level\n",
        "\n",
        "a = 5  # 0101 in binary\n",
        "b = 3  # 0011 in binary\n",
        "\n",
        "print(\"AND:\", a & b)  # 1 (0001)\n",
        "print(\"OR:\", a | b)   # 7 (0111)\n",
        "print(\"XOR:\", a ^ b)  # 6 (0110)\n",
        "print(\"NOT a:\", ~a)   # -6 (two's complement)\n",
        "print(\"Left shift:\", a << 1)  # 10 (1010)\n",
        "print(\"Right shift:\", a >> 1) # 2  (0010)\n"
      ],
      "metadata": {
        "id": "ATOJFMYCVFiw"
      },
      "execution_count": null,
      "outputs": []
    },
    {
      "cell_type": "code",
      "source": [
        "# Assignement Operators -- Used to assign values to variable\n",
        "\n",
        "num = 10\n",
        "\n",
        "num += 5   # num = num + 5\n",
        "print(\"Add and assign:\", num)  # 15\n",
        "\n",
        "num *= 2   # num = num * 2\n",
        "print(\"Multiply and assign:\", num)  # 30\n",
        "\n",
        "num //= 4  # num = num // 4\n",
        "print(\"Floor divide and assign:\", num)  # 7\n",
        "\n",
        "\n",
        "# ++a or a++ is not valid in python"
      ],
      "metadata": {
        "id": "uMJ1OywbV0bi"
      },
      "execution_count": null,
      "outputs": []
    },
    {
      "cell_type": "code",
      "source": [
        "# Membership Operators -- Check if a value is present in a sequence\n",
        "\n",
        "my_list = [1, 2, 3, 4, 5]\n",
        "\n",
        "print(\"Is 3 in list?\", 3 in my_list)       # True\n",
        "print(\"Is 6 not in list?\", 6 not in my_list) # True\n"
      ],
      "metadata": {
        "id": "0hLSRQVEWISW"
      },
      "execution_count": null,
      "outputs": []
    },
    {
      "cell_type": "code",
      "source": [
        "# Identity Operators\n",
        "\n",
        "x = [1, 2, 3]\n",
        "y = x\n",
        "z = [1, 2, 3]\n",
        "\n",
        "print(\"x is y:\", x is y)       # True (same object)\n",
        "print(\"x is z:\", x is z)       # False (different objects)\n",
        "print(\"x == z:\", x == z)       # True (same values)\n",
        "\n",
        "\n",
        "#   == → checks value equality\n",
        "#   is → checks object identity"
      ],
      "metadata": {
        "id": "lnobSduaWVEv"
      },
      "execution_count": null,
      "outputs": []
    },
    {
      "cell_type": "code",
      "source": [
        "# Program - Find sum of digits of a 3-digit number (without loops or if-else)\n",
        "\n",
        "# Input from user\n",
        "num = int(input(\"Enter a 3-digit number: \"))\n",
        "\n",
        "# Extract digits using arithmetic\n",
        "hundreds = num // 100       # First digit\n",
        "tens = (num // 10) % 10     # Second digit\n",
        "units = num % 10            # Third digit\n",
        "\n",
        "# Sum of digits\n",
        "sum_of_digits = hundreds + tens + units\n",
        "\n",
        "# Display result\n",
        "print(\"Sum of digits:\", sum_of_digits)\n",
        "\n",
        "\n"
      ],
      "metadata": {
        "colab": {
          "base_uri": "https://localhost:8080/"
        },
        "id": "B1SI9mOmWwc8",
        "outputId": "96dadaf8-81f4-41c3-fde9-18757227fd5e"
      },
      "execution_count": null,
      "outputs": [
        {
          "output_type": "stream",
          "name": "stdout",
          "text": [
            "Enter a 3-digit number: 364\n",
            "Sum of digits: 13\n"
          ]
        }
      ]
    },
    {
      "cell_type": "markdown",
      "source": [
        "# Conditional Statements\n",
        "\n",
        "Conditional statements in Python are used to execute certain blocks of code based on specific conditions.     \n",
        "These statements help control the flow of a program, making it behave differently in different situations."
      ],
      "metadata": {
        "id": "JM9dZBaAXjYr"
      }
    },
    {
      "cell_type": "code",
      "source": [
        "# If Statement\n",
        "\n",
        "age = 20\n",
        "if age >= 18:\n",
        "    print(\"Eligible to vote.\")\n",
        "\n",
        "# Shorthand if\n",
        "age = 19\n",
        "if age > 18: print(\"Eligible to Vote.\")\n"
      ],
      "metadata": {
        "colab": {
          "base_uri": "https://localhost:8080/"
        },
        "id": "Ul_JMLlAXnoj",
        "outputId": "b0801c25-119a-45a1-aef6-cea46b9c4e10"
      },
      "execution_count": null,
      "outputs": [
        {
          "output_type": "stream",
          "name": "stdout",
          "text": [
            "Eligible to vote.\n",
            "Eligible to Vote.\n"
          ]
        }
      ]
    },
    {
      "cell_type": "code",
      "source": [
        "# If-Else Statement\n",
        "\n",
        "age = 10\n",
        "if age <= 12:\n",
        "    print(\"Travel for free.\")\n",
        "else:\n",
        "    print(\"Pay for ticket.\")\n",
        "\n",
        "\n",
        "# Shorthand If-else\n",
        "\n",
        "marks = 45\n",
        "res = \"Pass\" if marks >= 40 else \"Fail\"\n",
        "print(f\"Result: {res}\")"
      ],
      "metadata": {
        "colab": {
          "base_uri": "https://localhost:8080/"
        },
        "id": "n2YjdbrzYV79",
        "outputId": "26916364-1316-4506-d907-722ecdefee97"
      },
      "execution_count": null,
      "outputs": [
        {
          "output_type": "stream",
          "name": "stdout",
          "text": [
            "Travel for free.\n",
            "Result: Pass\n"
          ]
        }
      ]
    },
    {
      "cell_type": "code",
      "source": [
        "# elif Statement\n",
        "\n",
        "age = 25\n",
        "\n",
        "if age <= 12:\n",
        "    print(\"Child.\")\n",
        "elif age <= 19:\n",
        "    print(\"Teenager.\")\n",
        "elif age <= 35:\n",
        "    print(\"Young adult.\")\n",
        "else:\n",
        "    print(\"Adult.\")"
      ],
      "metadata": {
        "colab": {
          "base_uri": "https://localhost:8080/"
        },
        "id": "LvJfdrlIYn9r",
        "outputId": "73d67b66-fd1c-4d23-c7bc-7bf4e9209a5a"
      },
      "execution_count": null,
      "outputs": [
        {
          "output_type": "stream",
          "name": "stdout",
          "text": [
            "Young adult.\n"
          ]
        }
      ]
    },
    {
      "cell_type": "code",
      "source": [
        "# Nested if-else\n",
        "\n",
        "email = input('enter email')\n",
        "password = input('enter password')\n",
        "\n",
        "if email == 'nitish.campusx@gmail.com' and password == '1234':\n",
        "  print('Welcome')\n",
        "elif email == 'nitish.campusx@gmail.com' and password != '1234':\n",
        "  # tell the user\n",
        "  print('Incorrect password')\n",
        "  password = input('enter password again')\n",
        "  if password == '1234':\n",
        "    print('Welcome, finally!')\n",
        "  else:\n",
        "    print('beta tumse na ho paayega!')\n",
        "else:\n",
        "  print('Not correct')"
      ],
      "metadata": {
        "colab": {
          "base_uri": "https://localhost:8080/"
        },
        "id": "DNsOEwZdY32a",
        "outputId": "c70c9a69-e6b9-471b-999e-030ea5050588"
      },
      "execution_count": null,
      "outputs": [
        {
          "output_type": "stream",
          "name": "stdout",
          "text": [
            "enter emailamann4204@gmail.com\n",
            "enter password1234\n",
            "Not correct\n"
          ]
        }
      ]
    },
    {
      "cell_type": "code",
      "source": [
        "# Program -- Find min of 3 given number\n",
        "\n",
        "a = int(input('first num : '))\n",
        "b = int(input('second num : '))\n",
        "c = int(input('third num : '))\n",
        "\n",
        "if a<b and a<c:\n",
        "  print('Smallest number is',a)\n",
        "elif b<c:\n",
        "  print('Smallest number is',b)\n",
        "else:\n",
        "  print('Smallest number is',c)\n",
        "\n",
        "\n"
      ],
      "metadata": {
        "colab": {
          "base_uri": "https://localhost:8080/"
        },
        "id": "AERVIsqpZhKU",
        "outputId": "ba897567-2784-4e32-c819-0d72cfea6b37"
      },
      "execution_count": null,
      "outputs": [
        {
          "output_type": "stream",
          "name": "stdout",
          "text": [
            "first num : 20\n",
            "second num : 20\n",
            "third num : 20\n",
            "Smallest number is 20\n"
          ]
        }
      ]
    },
    {
      "cell_type": "code",
      "source": [
        "# Match-case\n",
        "\n",
        "# Input numbers\n",
        "num1 = float(input(\"Enter first number: \"))\n",
        "num2 = float(input(\"Enter second number: \"))\n",
        "\n",
        "# Input operation\n",
        "print(\"Select operation: +, -, *, /\")\n",
        "operation = input(\"Enter operation: \")\n",
        "\n",
        "# Perform calculation using match-case\n",
        "match operation:\n",
        "    case '+':\n",
        "        result = num1 + num2\n",
        "    case '-':\n",
        "        result = num1 - num2\n",
        "    case '*':\n",
        "        result = num1 * num2\n",
        "    case '/':\n",
        "        # Handle division by zero\n",
        "        if num2 != 0 :\n",
        "            result = num1 / num2\n",
        "        else:\n",
        "            result = \"Error! Division by zero.\"\n",
        "    case _:  # Default case for invalid operator\n",
        "        result = \"Invalid operation!\"\n",
        "\n",
        "# Display result\n",
        "print(\"Result:\", result)\n"
      ],
      "metadata": {
        "colab": {
          "base_uri": "https://localhost:8080/"
        },
        "id": "HCKxQGYVaBmr",
        "outputId": "4d7bc23b-345b-4948-c246-0d9cc1987779"
      },
      "execution_count": null,
      "outputs": [
        {
          "output_type": "stream",
          "name": "stdout",
          "text": [
            "Enter first number: 5\n",
            "Enter second number: 4\n",
            "Select operation: +, -, *, /\n",
            "Enter operation: *\n",
            "Result: 20.0\n"
          ]
        }
      ]
    },
    {
      "cell_type": "markdown",
      "source": [
        "# Modules In Python\n",
        "\n",
        "*   math\n",
        "*   keywords\n",
        "*   datetime\n",
        "*   random"
      ],
      "metadata": {
        "id": "cGggy7rybAdY"
      }
    },
    {
      "cell_type": "code",
      "source": [
        "# math -- The math module in Python is a built-in module that provides mathematical functions and constants.\n",
        "\n",
        "import math\n",
        "\n",
        "a = math.factorial(5)\n",
        "b = math.floor(6.8)\n",
        "c = math.sqrt(9)\n",
        "\n",
        "print(a, b, c, sep='\\n')"
      ],
      "metadata": {
        "colab": {
          "base_uri": "https://localhost:8080/"
        },
        "id": "wVcQuPaXbMqy",
        "outputId": "901707be-8149-4342-8bc6-79448627c487"
      },
      "execution_count": null,
      "outputs": [
        {
          "output_type": "stream",
          "name": "stdout",
          "text": [
            "120\n",
            "6\n",
            "3.0\n"
          ]
        }
      ]
    },
    {
      "cell_type": "code",
      "source": [
        "# keyword -- keyword module is a built-in module that helps you work with Python keywords.\n",
        "\n",
        "import keyword\n",
        "\n",
        "# Check if a string is a keyword\n",
        "print(keyword.iskeyword(\"if\"))\n",
        "print(keyword.iskeyword(\"while\"))\n",
        "print(keyword.iskeyword(\"myVar\"))\n",
        "print('\\n')\n",
        "\n",
        "# List all Python keywords\n",
        "print(keyword.kwlist)\n"
      ],
      "metadata": {
        "colab": {
          "base_uri": "https://localhost:8080/"
        },
        "id": "sI8AdB7YbxO1",
        "outputId": "b76305d7-5f8e-419b-d638-b2a468fc4e5d"
      },
      "execution_count": null,
      "outputs": [
        {
          "output_type": "stream",
          "name": "stdout",
          "text": [
            "True\n",
            "True\n",
            "False\n",
            "\n",
            "\n",
            "['False', 'None', 'True', 'and', 'as', 'assert', 'async', 'await', 'break', 'class', 'continue', 'def', 'del', 'elif', 'else', 'except', 'finally', 'for', 'from', 'global', 'if', 'import', 'in', 'is', 'lambda', 'nonlocal', 'not', 'or', 'pass', 'raise', 'return', 'try', 'while', 'with', 'yield']\n"
          ]
        }
      ]
    },
    {
      "cell_type": "code",
      "source": [
        "# random -- used to generate random numbers, selections, or sequences.\n",
        "\n",
        "import random\n",
        "\n",
        "print(\"Random float:\", random.random())\n",
        "print(\"Random integer 1-10:\", random.randint(1, 10))\n",
        "print(\"Random choice from list:\", random.choice(['red','green','blue']))\n",
        "\n",
        "\n"
      ],
      "metadata": {
        "id": "GKTqvMJUcWfZ"
      },
      "execution_count": null,
      "outputs": []
    },
    {
      "cell_type": "markdown",
      "source": [
        "| Function                   | Description                                                    | Example                                               |\n",
        "| -------------------------- | -------------------------------------------------------------- | ----------------------------------------------------- |\n",
        "| `random.random()`          | Returns a random float between 0.0 and 1.0                     | `print(random.random())`                              |\n",
        "| `random.randint(a, b)`     | Returns a random integer between `a` and `b` (inclusive)       | `print(random.randint(1, 10))`                        |\n",
        "| `random.choice(seq)`       | Returns a random element from a sequence                       | `print(random.choice(['apple', 'banana', 'cherry']))` |\n",
        "| `random.choices(seq, k=n)` | Returns `n` random elements from a sequence (with replacement) | `print(random.choices([1,2,3,4], k=2))`               |\n",
        "| `random.shuffle(seq)`      | Shuffles a list **in-place**                                   | `lst = [1,2,3]; random.shuffle(lst)`                  |\n",
        "| `random.sample(seq, k)`    | Returns `k` unique random elements from a sequence             | `print(random.sample([1,2,3,4], 2))`                  |\n",
        "\n",
        "\n",
        "\n",
        "---\n",
        "\n"
      ],
      "metadata": {
        "id": "2AIR5z_CczVb"
      }
    },
    {
      "cell_type": "code",
      "source": [
        "# datetime -- used for working with dates and times, performing calculations, and formatting.\n",
        "\n",
        "import datetime\n",
        "\n",
        "# Current date and time\n",
        "now = datetime.datetime.now()\n",
        "print(\"Current date & time:\", now)\n",
        "\n",
        "# Today’s date\n",
        "today = datetime.date.today()\n",
        "print(\"Today:\", today)\n",
        "\n",
        "# Add 5 days\n",
        "future = today + datetime.timedelta(days=5)\n",
        "print(\"Date after 5 days:\", future)\n",
        "\n",
        "# Format date\n",
        "formatted = now.strftime(\"%d-%m-%Y %H:%M:%S\")\n",
        "print(\"Formatted date & time:\", formatted)\n"
      ],
      "metadata": {
        "colab": {
          "base_uri": "https://localhost:8080/"
        },
        "id": "iiQzv9B6c4mK",
        "outputId": "abe956b3-8ca9-43da-b8b3-67700f19a33d"
      },
      "execution_count": null,
      "outputs": [
        {
          "output_type": "stream",
          "name": "stdout",
          "text": [
            "Current date & time: 2025-10-18 17:53:26.908964\n",
            "Today: 2025-10-18\n",
            "Date after 5 days: 2025-10-23\n",
            "Formatted date & time: 18-10-2025 17:53:26\n"
          ]
        }
      ]
    },
    {
      "cell_type": "markdown",
      "source": [
        "# Loops In Python\n",
        "\n",
        "Loops in Python are used to repeat actions efficiently."
      ],
      "metadata": {
        "id": "xbPj25bfdWZ5"
      }
    },
    {
      "cell_type": "code",
      "source": [
        "# for loop\n",
        "\n",
        "n = 4\n",
        "for i in range(0,n):        # in range, 1st one is included & 2nd one is excluded\n",
        "  print(n*i)\n",
        "\n",
        "print('------------------------')\n",
        "\n",
        "# iterating using  index\n",
        "li = [\"aman\",\"singh\",\"negi\"]\n",
        "for index in range(len(li)):\n",
        "    print(li[index])\n"
      ],
      "metadata": {
        "colab": {
          "base_uri": "https://localhost:8080/"
        },
        "id": "HBflFFT3dY5p",
        "outputId": "3895860d-5dc1-43aa-ff1b-7c12bb052c49"
      },
      "execution_count": null,
      "outputs": [
        {
          "output_type": "stream",
          "name": "stdout",
          "text": [
            "0\n",
            "4\n",
            "8\n",
            "12\n",
            "------------------------\n",
            "aman\n",
            "singh\n",
            "negi\n"
          ]
        }
      ]
    },
    {
      "cell_type": "code",
      "source": [
        "# Iterating Over List, Tuple, String and Dictionary Using for Loops\n",
        "\n",
        "li = [\"aman\",\"singh\",\"negi\"]\n",
        "for x in li:\n",
        "    print(x)\n",
        "\n",
        "print('------------------------')\n",
        "\n",
        "tup = (\"aman\",\"singh\",\"negi\")\n",
        "for x in tup:\n",
        "    print(x)\n",
        "\n",
        "print('------------------------')\n",
        "\n",
        "s = \"aman\"\n",
        "for x in s:\n",
        "    print(x)\n",
        "\n",
        "print('------------------------')\n",
        "\n",
        "d = dict({'x':123, 'y':354})\n",
        "for x in d:\n",
        "    print(\"%s  %d\" % (x, d[x]))\n",
        "\n",
        "print('------------------------')\n",
        "\n",
        "set1 = {10, 30, 20}\n",
        "for x in set1:\n",
        "    print(x),"
      ],
      "metadata": {
        "colab": {
          "base_uri": "https://localhost:8080/"
        },
        "id": "S7R-IuHdeC1J",
        "outputId": "3a633564-f794-4d15-9192-e1c979e751cf"
      },
      "execution_count": null,
      "outputs": [
        {
          "output_type": "stream",
          "name": "stdout",
          "text": [
            "aman\n",
            "singh\n",
            "negi\n",
            "------------------------\n",
            "aman\n",
            "singh\n",
            "negi\n",
            "------------------------\n",
            "a\n",
            "m\n",
            "a\n",
            "n\n",
            "------------------------\n",
            "x  123\n",
            "y  354\n",
            "------------------------\n",
            "10\n",
            "20\n",
            "30\n"
          ]
        }
      ]
    },
    {
      "cell_type": "code",
      "source": [
        "# While loop\n",
        "# While loop is used to execute a block of statements repeatedly until a given condition is satisfied.\n",
        "\n",
        "cnt = 0\n",
        "while (cnt < 3):\n",
        "    cnt = cnt + 1\n",
        "    print(f\"Hello Student {cnt}\")"
      ],
      "metadata": {
        "colab": {
          "base_uri": "https://localhost:8080/"
        },
        "id": "3EEYP2G-eslE",
        "outputId": "7463f6f5-9f7c-4b21-9c59-a9458d5dbf58"
      },
      "execution_count": null,
      "outputs": [
        {
          "output_type": "stream",
          "name": "stdout",
          "text": [
            "Hello Student 1\n",
            "Hello Student 2\n",
            "Hello Student 3\n"
          ]
        }
      ]
    },
    {
      "cell_type": "code",
      "source": [
        "# Infinite while loop\n",
        "\n",
        "while (True):\n",
        "    print(\"Hello Geek\")"
      ],
      "metadata": {
        "id": "_e1edbHrgPX6"
      },
      "execution_count": null,
      "outputs": []
    },
    {
      "cell_type": "code",
      "source": [
        "# Nested For loop\n",
        "\n",
        "for i in range(1, 5):\n",
        "    for j in range(1,4):\n",
        "        print(i, end=' ')\n",
        "    print()"
      ],
      "metadata": {
        "colab": {
          "base_uri": "https://localhost:8080/"
        },
        "id": "02meAdDcgeo7",
        "outputId": "1ece9be7-4067-4586-be48-7260c1746963"
      },
      "execution_count": 2,
      "outputs": [
        {
          "output_type": "stream",
          "name": "stdout",
          "text": [
            "1 1 1 \n",
            "2 2 2 \n",
            "3 3 3 \n",
            "4 4 4 \n"
          ]
        }
      ]
    },
    {
      "cell_type": "code",
      "source": [
        "# Nested For loop\n",
        "\n",
        "for i in range(1, 5):\n",
        "    for j in range(i):\n",
        "        print(i, end=' ')\n",
        "    print()"
      ],
      "metadata": {
        "colab": {
          "base_uri": "https://localhost:8080/"
        },
        "id": "6yrd6jtH3bQ7",
        "outputId": "d4b5024c-c6e7-4d78-b3b2-41473da7708c"
      },
      "execution_count": 3,
      "outputs": [
        {
          "output_type": "stream",
          "name": "stdout",
          "text": [
            "1 \n",
            "2 2 \n",
            "3 3 3 \n",
            "4 4 4 4 \n"
          ]
        }
      ]
    },
    {
      "cell_type": "code",
      "source": [
        "import random\n",
        "\n",
        "print(\"🎉 Welcome to the Number Guessing Game! 🎉\")\n",
        "print(\"I'm thinking of a number between 1 and 100. Can you guess it?\")\n",
        "\n",
        "# Generate random number\n",
        "secret_number = random.randint(1, 100)\n",
        "\n",
        "# Initialize variables\n",
        "guess = None\n",
        "attempts = 0\n",
        "\n",
        "# Game loop\n",
        "while guess != secret_number:\n",
        "    guess = int(input(\"Enter your guess: \"))\n",
        "    attempts += 1\n",
        "\n",
        "    if guess < secret_number:\n",
        "        print(\"⬆ Too low! Try again.\")\n",
        "    elif guess > secret_number:\n",
        "        print(\"⬇ Too high! Try again.\")\n",
        "    else:\n",
        "        print(f\"🎉 Congratulations! You guessed the number {secret_number} in {attempts} attempts.\")\n",
        "\n"
      ],
      "metadata": {
        "colab": {
          "base_uri": "https://localhost:8080/"
        },
        "id": "htTzqOAyiHGI",
        "outputId": "653826f1-a14c-4209-b737-d89f7dbd795c"
      },
      "execution_count": null,
      "outputs": [
        {
          "output_type": "stream",
          "name": "stdout",
          "text": [
            "🎉 Welcome to the Number Guessing Game! 🎉\n",
            "I'm thinking of a number between 1 and 100. Can you guess it?\n",
            "Enter your guess: 50\n",
            "⬆ Too low! Try again.\n",
            "Enter your guess: 95\n",
            "⬇ Too high! Try again.\n",
            "Enter your guess: 75\n",
            "⬇ Too high! Try again.\n",
            "Enter your guess: 62\n",
            "⬇ Too high! Try again.\n",
            "Enter your guess: 68\n",
            "⬇ Too high! Try again.\n",
            "Enter your guess: 65\n",
            "⬇ Too high! Try again.\n",
            "Enter your guess: 63\n",
            "⬇ Too high! Try again.\n",
            "Enter your guess: 64\n",
            "⬇ Too high! Try again.\n",
            "Enter your guess: 55\n",
            "⬆ Too low! Try again.\n",
            "Enter your guess: 60\n",
            "🎉 Congratulations! You guessed the number 60 in 10 attempts.\n"
          ]
        }
      ]
    },
    {
      "cell_type": "markdown",
      "source": [
        "# Loop Control Statements\n",
        "\n",
        "*   continue\n",
        "*   break\n",
        "*   pass\n",
        "\n",
        "\n"
      ],
      "metadata": {
        "id": "HZUYzOkDgxB0"
      }
    },
    {
      "cell_type": "code",
      "source": [
        "# Continue Statement -- Skip the current iteration and move to the next iteration of the loop\n",
        "\n",
        "# Example: Skip number 5\n",
        "for i in range(1, 10):\n",
        "    if i == 5:\n",
        "        continue\n",
        "    print(i)\n",
        "\n"
      ],
      "metadata": {
        "colab": {
          "base_uri": "https://localhost:8080/"
        },
        "id": "mVrfurb9g7Dk",
        "outputId": "2ed895f5-4e14-40b3-bcc8-ec7ee8571578"
      },
      "execution_count": null,
      "outputs": [
        {
          "output_type": "stream",
          "name": "stdout",
          "text": [
            "1\n",
            "2\n",
            "3\n",
            "4\n",
            "6\n",
            "7\n",
            "8\n",
            "9\n"
          ]
        }
      ]
    },
    {
      "cell_type": "code",
      "source": [
        "# break -- Exit the loop immediately, even if the loop condition is still True\n",
        "\n",
        "# Example: Stop loop when number is 4\n",
        "for i in range(1, 10):\n",
        "    if i == 4:\n",
        "        break\n",
        "    print(i)\n"
      ],
      "metadata": {
        "colab": {
          "base_uri": "https://localhost:8080/"
        },
        "id": "PhwIfKRshORF",
        "outputId": "950dd211-3c38-49c8-89b9-0e7060ac58bb"
      },
      "execution_count": null,
      "outputs": [
        {
          "output_type": "stream",
          "name": "stdout",
          "text": [
            "1\n",
            "2\n",
            "3\n"
          ]
        }
      ]
    },
    {
      "cell_type": "code",
      "source": [
        "# pass -- Does nothing, acts as a placeholder [write empty loops]\n",
        "\n",
        "for letter in 'Roll No. 8':\n",
        "    pass\n",
        "print('Last Letter :', letter)"
      ],
      "metadata": {
        "colab": {
          "base_uri": "https://localhost:8080/"
        },
        "id": "UhiecHkRhXpg",
        "outputId": "6b2b21d9-6913-4bb7-9bf7-5cbb230ba4d7"
      },
      "execution_count": null,
      "outputs": [
        {
          "output_type": "stream",
          "name": "stdout",
          "text": [
            "Last Letter : 8\n"
          ]
        }
      ]
    },
    {
      "cell_type": "markdown",
      "source": [
        "# Question"
      ],
      "metadata": {
        "id": "-T763WdS2BuI"
      }
    },
    {
      "cell_type": "code",
      "source": [
        "'''\n",
        "Sequence sum\n",
        "1/1! + 2/2! + 3/3! + ...\n",
        "'''\n",
        "\n",
        "n = int(input('Enter n : '))\n",
        "\n",
        "result = 0\n",
        "fact = 1      # running factorial value\n",
        "\n",
        "for i in range(1, n+1):\n",
        "  fact = fact * i\n",
        "  result = result + i/fact\n",
        "\n",
        "print(result)"
      ],
      "metadata": {
        "colab": {
          "base_uri": "https://localhost:8080/"
        },
        "id": "ti8yQPyl2E48",
        "outputId": "585b5b50-39c2-4af6-97c0-471723ed16fe"
      },
      "execution_count": 1,
      "outputs": [
        {
          "output_type": "stream",
          "name": "stdout",
          "text": [
            "Enter n : 3\n",
            "2.5\n"
          ]
        }
      ]
    },
    {
      "cell_type": "code",
      "source": [
        "'''\n",
        "Print Sequence\n",
        "\n",
        "1\n",
        "121\n",
        "12321\n",
        "1234321\n",
        "'''\n",
        "\n",
        "n =int(input('Enter number of rows : '))\n",
        "\n",
        "for i in range(1, n+1):\n",
        "  for j in range(1, i+1):\n",
        "    print(j, end='')\n",
        "  for k in range(i-1, 0, -1):\n",
        "    print(k, end='')\n",
        "  print()"
      ],
      "metadata": {
        "colab": {
          "base_uri": "https://localhost:8080/"
        },
        "id": "An7-QEI92xZE",
        "outputId": "fe0eb649-12d2-427a-9132-234504ed51ba"
      },
      "execution_count": 4,
      "outputs": [
        {
          "output_type": "stream",
          "name": "stdout",
          "text": [
            "Enter number of rows : 5\n",
            "1\n",
            "121\n",
            "12321\n",
            "1234321\n",
            "123454321\n"
          ]
        }
      ]
    },
    {
      "cell_type": "code",
      "source": [
        "# Print all prime numbers between 1 and 100\n",
        "\n",
        "for num in range(2, 101):  # Start from 2 since 1 is not a prime number\n",
        "    is_prime = True\n",
        "\n",
        "    for i in range(2, int(num ** 0.5) + 1):  # Check divisibility up to sqrt(num)\n",
        "        if num % i == 0:\n",
        "            is_prime = False\n",
        "            break\n",
        "\n",
        "    if is_prime:\n",
        "        print(num, end=\" \")\n"
      ],
      "metadata": {
        "colab": {
          "base_uri": "https://localhost:8080/"
        },
        "id": "CAxZYiks4zmr",
        "outputId": "f2a6a044-238c-473a-91e5-e2f34bcc3f69"
      },
      "execution_count": 6,
      "outputs": [
        {
          "output_type": "stream",
          "name": "stdout",
          "text": [
            "2 3 5 7 11 13 17 19 23 29 31 37 41 43 47 53 59 61 67 71 73 79 83 89 97 "
          ]
        }
      ]
    }
  ]
}